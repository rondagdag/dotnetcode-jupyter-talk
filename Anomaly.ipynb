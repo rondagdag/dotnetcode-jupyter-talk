{
 "cells": [
  {
   "cell_type": "code",
   "execution_count": 1,
   "metadata": {},
   "outputs": [
    {
     "data": {
      "text/html": [
       "\r\n",
       "<div>\r\n",
       "    <div id='dotnet-interactive-this-cell-7886.3b0f7902b4c94e529aa357b41bff92b6' style='display: none'>\r\n",
       "        The below script needs to be able to find the current output cell; this is an easy method to get it.\r\n",
       "    </div>\r\n",
       "    <script type='text/javascript'>\r\n",
       "// ensure `require` is available globally\r\n",
       "if (typeof require !== typeof Function || typeof require.config !== typeof Function) {\r\n",
       "    let require_script = document.createElement('script');\r\n",
       "    require_script.setAttribute('src', 'https://cdnjs.cloudflare.com/ajax/libs/require.js/2.3.6/require.min.js');\r\n",
       "    require_script.setAttribute('type', 'text/javascript');\r\n",
       "    require_script.onload = function () {\r\n",
       "        loadDotnetInteractiveApi();\r\n",
       "    };\r\n",
       "\r\n",
       "    document.getElementsByTagName('head')[0].appendChild(require_script);\r\n",
       "}\r\n",
       "else {\r\n",
       "    loadDotnetInteractiveApi();\r\n",
       "}\r\n",
       "\r\n",
       "async function probeAddresses(probingAddresses) {\r\n",
       "    function timeout(ms, promise) {\r\n",
       "        return new Promise(function (resolve, reject) {\r\n",
       "            setTimeout(function () {\r\n",
       "                reject(new Error('timeout'))\r\n",
       "            }, ms)\r\n",
       "            promise.then(resolve, reject)\r\n",
       "        })\r\n",
       "    }\r\n",
       "\r\n",
       "    if (Array.isArray(probingAddresses)) {\r\n",
       "        for (let i = 0; i < probingAddresses.length; i++) {\r\n",
       "\r\n",
       "            let rootUrl = probingAddresses[i];\r\n",
       "\r\n",
       "            if (!rootUrl.endsWith('/')) {\r\n",
       "                rootUrl = `${rootUrl}/`;\r\n",
       "            }\r\n",
       "\r\n",
       "            try {\r\n",
       "                let response = await timeout(1000, fetch(`${rootUrl}discovery`, {\r\n",
       "                    method: 'POST',\r\n",
       "                    cache: 'no-cache',\r\n",
       "                    mode: 'cors',\r\n",
       "                    timeout: 1000,\r\n",
       "                    headers: {\r\n",
       "                        'Content-Type': 'text/plain'\r\n",
       "                    },\r\n",
       "                    body: probingAddresses[i]\r\n",
       "                }));\r\n",
       "\r\n",
       "                if (response.status == 200) {\r\n",
       "                    return rootUrl;\r\n",
       "                }\r\n",
       "            }\r\n",
       "            catch (e) { }\r\n",
       "        }\r\n",
       "    }\r\n",
       "}\r\n",
       "\r\n",
       "function loadDotnetInteractiveApi() {\r\n",
       "    probeAddresses([\"http://192.168.1.45:1034/\", \"http://127.0.0.1:1034/\"])\r\n",
       "        .then((root) => {\r\n",
       "            // use probing to find host url and api resources\r\n",
       "            // load interactive helpers and language services\r\n",
       "            let dotnetInteractiveRequire = require.config({\r\n",
       "                context: '7886.3b0f7902b4c94e529aa357b41bff92b6',\r\n",
       "                paths: {\r\n",
       "                    'dotnet-interactive': `${root}resources`\r\n",
       "                }\r\n",
       "            }) || require;\r\n",
       "\r\n",
       "            let dotnetInteractiveExtensionsRequire = require.config({\r\n",
       "                context: '7886.3b0f7902b4c94e529aa357b41bff92b6',\r\n",
       "                paths: {\r\n",
       "                    'dotnet-interactive-extensions': `${root}extensions`\r\n",
       "                }\r\n",
       "            }) || require;\r\n",
       "\r\n",
       "            if (!window.dotnetInteractiveRequire) {\r\n",
       "                window.dotnetInteractiveRequire = dotnetInteractiveRequire;\r\n",
       "            }\r\n",
       "\r\n",
       "            if (!window.dotnetInteractiveExtensionsRequire) {\r\n",
       "                window.dotnetInteractiveExtensionsRequire = dotnetInteractiveExtensionsRequire;\r\n",
       "            }\r\n",
       "\r\n",
       "            window.getExtensionRequire = function(extensionName, extensionCacheBuster) {\r\n",
       "                let paths = {};\r\n",
       "                paths[extensionName] = `${root}extensions/${extensionName}/resources/`;\r\n",
       "                \r\n",
       "                let internalRequire = require.config({\r\n",
       "                    context: extensionCacheBuster,\r\n",
       "                    paths: paths,\r\n",
       "                    urlArgs: `cacheBuster=${extensionCacheBuster}`\r\n",
       "                    }) || require;\r\n",
       "\r\n",
       "                return internalRequire\r\n",
       "            };\r\n",
       "        \r\n",
       "            dotnetInteractiveRequire([\r\n",
       "                    'dotnet-interactive/dotnet-interactive'\r\n",
       "                ],\r\n",
       "                function (dotnet) {\r\n",
       "                    dotnet.init(window);\r\n",
       "                },\r\n",
       "                function (error) {\r\n",
       "                    console.log(error);\r\n",
       "                }\r\n",
       "            );\r\n",
       "        })\r\n",
       "        .catch(error => {console.log(error);});\r\n",
       "    }\r\n",
       "    </script>\r\n",
       "</div>"
      ]
     },
     "metadata": {},
     "output_type": "display_data"
    },
    {
     "data": {
      "text/plain": [
       "Installed package UnitsNet version 4.68.0"
      ]
     },
     "metadata": {},
     "output_type": "display_data"
    },
    {
     "data": {
      "text/plain": [
       "Installed package System.Device.Gpio version 1.1.0-prerelease.20276.1"
      ]
     },
     "metadata": {},
     "output_type": "display_data"
    },
    {
     "data": {
      "text/plain": [
       "Installed package IoT.Device.Bindings version 1.1.0-prerelease.20276.1"
      ]
     },
     "metadata": {},
     "output_type": "display_data"
    }
   ],
   "source": [
    "#r \"nuget:System.Device.Gpio,1.1.0-prerelease.20276.1\"\n",
    "#r \"nuget:IoT.Device.Bindings,1.1.0-prerelease.20276.1 \"\n",
    "#r \"nuget:UnitsNet,4.68.0\""
   ]
  },
  {
   "cell_type": "code",
   "execution_count": 3,
   "metadata": {},
   "outputs": [
    {
     "name": "stderr",
     "output_type": "stream",
     "text": [
      "\n",
      "(6,9): warning CS1702: Assuming assembly reference 'System.Drawing.Primitives, Version=4.2.0.0, Culture=neutral, PublicKeyToken=b03f5f7f11d50a3a' used by 'Iot.Device.Bindings' matches identity 'System.Drawing.Primitives, Version=4.2.1.0, Culture=neutral, PublicKeyToken=b03f5f7f11d50a3a' of 'System.Drawing.Primitives', you may need to supply runtime policy\n",
      "\n"
     ]
    }
   ],
   "source": [
    "using Iot.Device.SenseHat;\n",
    "using System;\n",
    "using System.Drawing;\n",
    "using (var ledMatrix = new SenseHatLedMatrixI2c())\n",
    "{\n",
    "        ledMatrix.Fill(Color.Black);\n",
    "}"
   ]
  },
  {
   "cell_type": "code",
   "execution_count": 3,
   "metadata": {},
   "outputs": [],
   "source": [
    "async IAsyncEnumerable<double> ReadTemperatureAsync(int count = 10){   \n",
    "    using (var sh = new SenseHat())\n",
    "    {\n",
    "        for (var i = 0; i < count; i++){\n",
    "            yield return (sh.Temperature2.DegreesFahrenheit);\n",
    "            await Task.Delay(60000);\n",
    "        }\n",
    "    };\n",
    "}"
   ]
  },
  {
   "cell_type": "code",
   "execution_count": 4,
   "metadata": {},
   "outputs": [],
   "source": [
    "using System;\n",
    "var temperatures = new List<(DateTime dt, double val)>();\n"
   ]
  },
  {
   "cell_type": "code",
   "execution_count": 5,
   "metadata": {},
   "outputs": [],
   "source": [
    "DateTime RoundUp(DateTime dt, TimeSpan d)\n",
    "{\n",
    "    return new DateTime((dt.Ticks + d.Ticks - 1) / d.Ticks * d.Ticks, dt.Kind);\n",
    "}"
   ]
  },
  {
   "cell_type": "code",
   "execution_count": null,
   "metadata": {},
   "outputs": [
    {
     "name": "stdout",
     "output_type": "stream",
     "text": [
      "9/8/2020 5:22:00 AM : 102.75875091552734\n",
      "9/8/2020 5:23:00 AM : 103.03250274658203\n",
      "9/8/2020 5:24:00 AM : 103.23500137329101\n",
      "9/8/2020 5:25:00 AM : 103.04000091552734\n",
      "9/8/2020 5:26:00 AM : 102.98375091552734\n",
      "9/8/2020 5:27:00 AM : 103.39249725341797\n",
      "9/8/2020 5:28:00 AM : 103.59875183105468\n",
      "9/8/2020 5:29:00 AM : 103.71500091552734\n",
      "9/8/2020 5:30:00 AM : 103.57625045776368\n",
      "9/8/2020 5:31:00 AM : 103.65125274658203\n"
     ]
    }
   ],
   "source": [
    "await foreach (var result in ReadTemperatureAsync(15))\n",
    "{\n",
    "    var t = RoundUp(DateTime.Now, TimeSpan.FromMinutes(1));\n",
    "    Console.WriteLine(t + \" : \" + result);\n",
    "    temperatures.Add((t, result));\n",
    "}"
   ]
  },
  {
   "cell_type": "code",
   "execution_count": null,
   "metadata": {},
   "outputs": [],
   "source": [
    "#r \"nuget:Microsoft.Azure.CognitiveServices.AnomalyDetector\""
   ]
  },
  {
   "cell_type": "code",
   "execution_count": null,
   "metadata": {},
   "outputs": [],
   "source": [
    "using Microsoft.Azure.CognitiveServices.AnomalyDetector;\n",
    "using Microsoft.Azure.CognitiveServices.AnomalyDetector.Models;\n",
    "using System.Collections;\n",
    "using Point = Microsoft.Azure.CognitiveServices.AnomalyDetector.Models.Point;\n",
    "\n",
    "Request GetSeries(List<(DateTime dt, double val)> list)\n",
    "{\n",
    "    var points = list\n",
    "        // .TakeLast(take)\n",
    "        .Select(e => new Point(e.dt,e.val)).ToList();\n",
    "    Console.WriteLine(points);\n",
    "    return new Request(points, Granularity.Minutely, period: 1); \n",
    "}"
   ]
  },
  {
   "cell_type": "code",
   "execution_count": null,
   "metadata": {},
   "outputs": [],
   "source": [
    "async Task<bool> LastDetectSampleAsync(IAnomalyDetectorClient client, Request request)\n",
    "{\n",
    "\n",
    "    Console.WriteLine(\"Detecting the anomaly status of the latest point in the series.\");\n",
    "    LastDetectResponse result = await client.LastDetectAsync(request);\n",
    "    return result.IsAnomaly;\n",
    "}"
   ]
  },
  {
   "cell_type": "markdown",
   "metadata": {},
   "source": [
    "To get Endpoint and Key values, create Anomaly Detector in Azure Portal. https://ms.portal.azure.com/#create/Microsoft.CognitiveServicesAnomalyDetector\n"
   ]
  },
  {
   "cell_type": "code",
   "execution_count": null,
   "metadata": {},
   "outputs": [],
   "source": [
    "using System;\n",
    "using System.IO;\n",
    "using System.Text;\n",
    "\n",
    "string path = \"config.json\";\n",
    "string readText = File.ReadAllText(path);\n",
    "var dict = System.Text.Json.JsonSerializer.Deserialize<Dictionary<string, string>>(readText);\n",
    "\n",
    "string endpoint = dict[\"endpoint\"];\n",
    "string key = dict[\"subscriptionkey\"];\n"
   ]
  },
  {
   "cell_type": "code",
   "execution_count": null,
   "metadata": {},
   "outputs": [],
   "source": [
    "IAnomalyDetectorClient client = new AnomalyDetectorClient(new ApiKeyServiceClientCredentials(key))\n",
    "{\n",
    "    Endpoint = endpoint\n",
    "};"
   ]
  },
  {
   "cell_type": "code",
   "execution_count": null,
   "metadata": {},
   "outputs": [],
   "source": [
    "foreach (var temp in temperatures)\n",
    "{\n",
    "    Console.WriteLine(temp.dt + \" : \" + temp.val);\n",
    "}\n",
    "var lastTemp = temperatures.Last();\n",
    "temperatures.Add((lastTemp.dt.AddMinutes(1) , 200));\n",
    "\n",
    "var request = GetSeries(temperatures); // The request payload with points from the data file\n",
    "var isAnomaly = await LastDetectSampleAsync(client, request);\n",
    "Console.WriteLine($\"Anomaly {isAnomaly}\");\n",
    "if (isAnomaly)\n",
    "{\n",
    "    using (var ledMatrix = new SenseHatLedMatrixI2c())\n",
    "    {\n",
    "            ledMatrix.Fill(Color.Red);\n",
    "    }\n",
    "}\n"
   ]
  },
  {
   "cell_type": "code",
   "execution_count": null,
   "metadata": {},
   "outputs": [],
   "source": [
    "using Iot.Device.SenseHat;\n",
    "using System;\n",
    "using System.Drawing;\n",
    "using (var ledMatrix = new SenseHatLedMatrixI2c())\n",
    "{\n",
    "        ledMatrix.Fill(Color.Black);\n",
    "}"
   ]
  },
  {
   "cell_type": "code",
   "execution_count": null,
   "metadata": {},
   "outputs": [],
   "source": []
  }
 ],
 "metadata": {
  "kernelspec": {
   "display_name": ".NET (C#)",
   "language": "C#",
   "name": ".net-csharp"
  },
  "language_info": {
   "file_extension": ".cs",
   "mimetype": "text/x-csharp",
   "name": "C#",
   "pygments_lexer": "csharp",
   "version": "8.0"
  }
 },
 "nbformat": 4,
 "nbformat_minor": 4
}
