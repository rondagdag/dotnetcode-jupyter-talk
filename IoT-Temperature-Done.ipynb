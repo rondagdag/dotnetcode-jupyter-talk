{
 "cells": [
  {
   "cell_type": "markdown",
   "metadata": {},
   "source": [
    "# Men from Mars, Women from Venus: both can code .NET in Jupyter"
   ]
  },
  {
   "cell_type": "markdown",
   "metadata": {},
   "source": [
    "@rondagdag"
   ]
  },
  {
   "cell_type": "markdown",
   "metadata": {},
   "source": [
    "### .NET Interactive https://github.com/dotnet/interactive"
   ]
  },
  {
   "cell_type": "markdown",
   "metadata": {},
   "source": [
    "### To install in raspberry pi\n",
    "```\n",
    "curl -L https://raw.githubusercontent.com/colombod/pi-top/master/setup-device.sh | bash -e\n",
    "source .jupyter_venv/bin/activate\n",
    "jupyter lab --no-browser\n",
    "\n",
    "```\n",
    "\n",
    "Rasperry Pi Sense Hat installation instructions\n",
    "https://www.raspberrypi.org/documentation/hardware/sense-hat/"
   ]
  },
  {
   "cell_type": "code",
   "execution_count": 1,
   "metadata": {},
   "outputs": [
    {
     "data": {
      "text/html": [
       "\r\n",
       "<div>\r\n",
       "    <div id='dotnet-interactive-this-cell-11363.eb0cdb4c39df4de1989b6ea44e27be74' style='display: none'>\r\n",
       "        The below script needs to be able to find the current output cell; this is an easy method to get it.\r\n",
       "    </div>\r\n",
       "    <script type='text/javascript'>\r\n",
       "// ensure `require` is available globally\r\n",
       "if (typeof require !== typeof Function || typeof require.config !== typeof Function) {\r\n",
       "    let require_script = document.createElement('script');\r\n",
       "    require_script.setAttribute('src', 'https://cdnjs.cloudflare.com/ajax/libs/require.js/2.3.6/require.min.js');\r\n",
       "    require_script.setAttribute('type', 'text/javascript');\r\n",
       "    require_script.onload = function () {\r\n",
       "        loadDotnetInteractiveApi();\r\n",
       "    };\r\n",
       "\r\n",
       "    document.getElementsByTagName('head')[0].appendChild(require_script);\r\n",
       "}\r\n",
       "else {\r\n",
       "    loadDotnetInteractiveApi();\r\n",
       "}\r\n",
       "\r\n",
       "async function probeAddresses(probingAddresses) {\r\n",
       "    function timeout(ms, promise) {\r\n",
       "        return new Promise(function (resolve, reject) {\r\n",
       "            setTimeout(function () {\r\n",
       "                reject(new Error('timeout'))\r\n",
       "            }, ms)\r\n",
       "            promise.then(resolve, reject)\r\n",
       "        })\r\n",
       "    }\r\n",
       "\r\n",
       "    if (Array.isArray(probingAddresses)) {\r\n",
       "        for (let i = 0; i < probingAddresses.length; i++) {\r\n",
       "\r\n",
       "            let rootUrl = probingAddresses[i];\r\n",
       "\r\n",
       "            if (!rootUrl.endsWith('/')) {\r\n",
       "                rootUrl = `${rootUrl}/`;\r\n",
       "            }\r\n",
       "\r\n",
       "            try {\r\n",
       "                let response = await timeout(1000, fetch(`${rootUrl}discovery`, {\r\n",
       "                    method: 'POST',\r\n",
       "                    cache: 'no-cache',\r\n",
       "                    mode: 'cors',\r\n",
       "                    timeout: 1000,\r\n",
       "                    headers: {\r\n",
       "                        'Content-Type': 'text/plain'\r\n",
       "                    },\r\n",
       "                    body: probingAddresses[i]\r\n",
       "                }));\r\n",
       "\r\n",
       "                if (response.status == 200) {\r\n",
       "                    return rootUrl;\r\n",
       "                }\r\n",
       "            }\r\n",
       "            catch (e) { }\r\n",
       "        }\r\n",
       "    }\r\n",
       "}\r\n",
       "\r\n",
       "function loadDotnetInteractiveApi() {\r\n",
       "    probeAddresses([\"http://192.168.1.20:1024/\", \"http://127.0.0.1:1024/\"])\r\n",
       "        .then((root) => {\r\n",
       "            // use probing to find host url and api resources\r\n",
       "            // load interactive helpers and language services\r\n",
       "            let dotnet_require = require.config({\r\n",
       "                context: '11363.eb0cdb4c39df4de1989b6ea44e27be74',\r\n",
       "                paths: {\r\n",
       "                    'dotnet-interactive': `${root}resources`\r\n",
       "                }\r\n",
       "            }) || require;\r\n",
       "            if (!window.dotnet_require) {\r\n",
       "                window.dotnet_require = dotnet_require;\r\n",
       "            }\r\n",
       "        \r\n",
       "            dotnet_require([\r\n",
       "                    'dotnet-interactive/dotnet-interactive'\r\n",
       "                ],\r\n",
       "                function (dotnet) {\r\n",
       "                    dotnet.init(window);\r\n",
       "                },\r\n",
       "                function (error) {\r\n",
       "                    console.log(error);\r\n",
       "                }\r\n",
       "            );\r\n",
       "        })\r\n",
       "        .catch(error => {console.log(error);});\r\n",
       "    }\r\n",
       "    </script>\r\n",
       "</div>"
      ]
     },
     "metadata": {},
     "output_type": "display_data"
    },
    {
     "data": {
      "text/html": [
       "<div><h3>.NET kernel</h3><div><div style=\"text-indent:1.5em\"><pre><span style=\"text-indent:1.5em; color:#512bd4\">#!csharp</span><span style=\"text-indent:1.5em; color:darkgray\">, </span><span style=\"text-indent:1.5em; color:#512bd4\">#!c#</span><span style=\"text-indent:1.5em; color:darkgray\">, </span><span style=\"text-indent:1.5em; color:#512bd4\">#!C#</span></pre><div style=\"text-indent:3em\">Run the code that follows using the csharp kernel.</div></div><div style=\"text-indent:1.5em\"><pre><span style=\"text-indent:1.5em; color:#512bd4\">#!fsharp</span><span style=\"text-indent:1.5em; color:darkgray\">, </span><span style=\"text-indent:1.5em; color:#512bd4\">#!f#</span><span style=\"text-indent:1.5em; color:darkgray\">, </span><span style=\"text-indent:1.5em; color:#512bd4\">#!F#</span></pre><div style=\"text-indent:3em\">Run the code that follows using the fsharp kernel.</div></div><div style=\"text-indent:1.5em\"><pre><span style=\"text-indent:1.5em; color:#512bd4\">#!pwsh</span><span style=\"text-indent:1.5em; color:darkgray\">, </span><span style=\"text-indent:1.5em; color:#512bd4\">#!powershell</span></pre><div style=\"text-indent:3em\">Run the code that follows using the pwsh kernel.</div></div><div style=\"text-indent:1.5em\"><pre><span style=\"text-indent:1.5em; color:#512bd4\">#!javascript</span><span style=\"text-indent:1.5em; color:darkgray\">, </span><span style=\"text-indent:1.5em; color:#512bd4\">#!js</span></pre><div style=\"text-indent:3em\">Run the code that follows using the javascript kernel.</div></div><div style=\"text-indent:1.5em\"><pre><span style=\"text-indent:1.5em; color:#512bd4\">#!html</span></pre><div style=\"text-indent:3em\">Run the code that follows using the html kernel.</div></div><div style=\"text-indent:1.5em\"><pre><span style=\"text-indent:1.5em; color:#512bd4\">#!value</span></pre><div style=\"text-indent:3em\">Stores a value </div></div><div style=\"text-indent:1.5em\"><pre><span style=\"text-indent:1.5em; color:#512bd4\">#!lsmagic</span></pre><div style=\"text-indent:3em\">List the available magic commands / directives</div></div><div style=\"text-indent:1.5em\"><pre><span style=\"text-indent:1.5em; color:#512bd4\">#!markdown</span></pre><div style=\"text-indent:3em\">Convert the code that follows from Markdown into HTML</div></div><div style=\"text-indent:1.5em\"><pre><span style=\"text-indent:1.5em; color:#512bd4\">#!time</span></pre><div style=\"text-indent:3em\">Time the execution of the following code in the submission.</div></div><div style=\"text-indent:1.5em\"><pre><span style=\"text-indent:1.5em; color:#512bd4\">#!log</span></pre><div style=\"text-indent:3em\">Enables session logging.</div></div><div style=\"text-indent:1.5em\"><pre><span style=\"text-indent:1.5em; color:#512bd4\">#!about</span></pre><div style=\"text-indent:3em\">Show version and build information</div></div><div style=\"text-indent:1.5em\"><pre><span style=\"text-indent:1.5em; color:#512bd4\">#!connect</span></pre><div style=\"text-indent:3em\">Connects additional subkernels</div><div style=\"text-indent:3em\"><pre><span style=\"text-indent:4.5em; color:#512bd4\">named-pipe</span></pre><div style=\"text-indent:6em\">Connects to a kernel using named pipes</div></div><div style=\"text-indent:3em\"><pre><span style=\"text-indent:4.5em; color:#512bd4\">signalr</span></pre><div style=\"text-indent:6em\">Connects to a kernel using SignalR</div></div></div></div></div>"
      ]
     },
     "metadata": {},
     "output_type": "display_data"
    },
    {
     "data": {
      "text/html": [
       "<div><h3>csharp kernel</h3><div><div style=\"text-indent:1.5em\"><pre><span style=\"text-indent:1.5em; color:#512bd4\">#i</span></pre><div style=\"text-indent:3em\">&lt;null&gt;</div></div><div style=\"text-indent:1.5em\"><pre><span style=\"text-indent:1.5em; color:#512bd4\">#r</span></pre><div style=\"text-indent:3em\">&lt;null&gt;</div></div><div style=\"text-indent:1.5em\"><pre><span style=\"text-indent:1.5em; color:#512bd4\">#!whos</span><span style=\"text-indent:1.5em; color:darkgray\">, </span><span style=\"text-indent:1.5em; color:#512bd4\">#!who</span></pre><div style=\"text-indent:3em\">Display the names of the current top-level variables and their values.</div></div><div style=\"text-indent:1.5em\"><pre><span style=\"text-indent:1.5em; color:#512bd4\">#!share</span></pre><div style=\"text-indent:3em\">Share a .NET variable between subkernels</div></div><div style=\"text-indent:1.5em\"><pre><span style=\"text-indent:1.5em; color:#512bd4\">#!lsmagic</span></pre><div style=\"text-indent:3em\">List the available magic commands / directives</div></div></div></div>"
      ]
     },
     "metadata": {},
     "output_type": "display_data"
    },
    {
     "data": {
      "text/html": [
       "<div><h3>fsharp kernel</h3><div><div style=\"text-indent:1.5em\"><pre><span style=\"text-indent:1.5em; color:#512bd4\">#i</span></pre><div style=\"text-indent:3em\">&lt;null&gt;</div></div><div style=\"text-indent:1.5em\"><pre><span style=\"text-indent:1.5em; color:#512bd4\">#r</span></pre><div style=\"text-indent:3em\">&lt;null&gt;</div></div><div style=\"text-indent:1.5em\"><pre><span style=\"text-indent:1.5em; color:#512bd4\">#!whos</span><span style=\"text-indent:1.5em; color:darkgray\">, </span><span style=\"text-indent:1.5em; color:#512bd4\">#!who</span></pre><div style=\"text-indent:3em\">Display the names of the current top-level variables and their values.</div></div><div style=\"text-indent:1.5em\"><pre><span style=\"text-indent:1.5em; color:#512bd4\">#!share</span></pre><div style=\"text-indent:3em\">Share a .NET variable between subkernels</div></div><div style=\"text-indent:1.5em\"><pre><span style=\"text-indent:1.5em; color:#512bd4\">#!lsmagic</span></pre><div style=\"text-indent:3em\">List the available magic commands / directives</div></div></div></div>"
      ]
     },
     "metadata": {},
     "output_type": "display_data"
    },
    {
     "data": {
      "text/html": [
       "<div><h3>pwsh kernel</h3><div><div style=\"text-indent:1.5em\"><pre><span style=\"text-indent:1.5em; color:#512bd4\">#!share</span></pre><div style=\"text-indent:3em\">Share a .NET variable between subkernels</div></div><div style=\"text-indent:1.5em\"><pre><span style=\"text-indent:1.5em; color:#512bd4\">#!lsmagic</span></pre><div style=\"text-indent:3em\">List the available magic commands / directives</div></div></div></div>"
      ]
     },
     "metadata": {},
     "output_type": "display_data"
    },
    {
     "data": {
      "text/html": [
       "<div><h3>javascript kernel</h3><div><div style=\"text-indent:1.5em\"><pre><span style=\"text-indent:1.5em; color:#512bd4\">#!lsmagic</span></pre><div style=\"text-indent:3em\">List the available magic commands / directives</div></div></div></div>"
      ]
     },
     "metadata": {},
     "output_type": "display_data"
    },
    {
     "data": {
      "text/html": [
       "<div><h3>html kernel</h3><div><div style=\"text-indent:1.5em\"><pre><span style=\"text-indent:1.5em; color:#512bd4\">#!lsmagic</span></pre><div style=\"text-indent:3em\">List the available magic commands / directives</div></div></div></div>"
      ]
     },
     "metadata": {},
     "output_type": "display_data"
    },
    {
     "data": {
      "text/html": [
       "<div><h3>value kernel</h3><div><div style=\"text-indent:1.5em\"><pre><span style=\"text-indent:1.5em; color:#512bd4\">#!lsmagic</span></pre><div style=\"text-indent:3em\">List the available magic commands / directives</div></div></div></div>"
      ]
     },
     "metadata": {},
     "output_type": "display_data"
    }
   ],
   "source": [
    "#!lsmagic"
   ]
  },
  {
   "cell_type": "code",
   "execution_count": 2,
   "metadata": {},
   "outputs": [
    {
     "name": "stdout",
     "output_type": "stream",
     "text": [
      "Hello from F#\n"
     ]
    }
   ],
   "source": [
    "#!fsharp\n",
    "\n",
    "\"Hello from F#\" |> Console.WriteLine\n",
    "let x = 10\n",
    "let y = 15"
   ]
  },
  {
   "cell_type": "code",
   "execution_count": 3,
   "metadata": {},
   "outputs": [
    {
     "data": {
      "text/html": [
       "10"
      ]
     },
     "execution_count": 3,
     "metadata": {},
     "output_type": "execute_result"
    }
   ],
   "source": [
    "#!share --from fsharp x\n",
    "x"
   ]
  },
  {
   "cell_type": "code",
   "execution_count": 4,
   "metadata": {},
   "outputs": [
    {
     "data": {
      "text/plain": [
       "Installed package System.Device.Gpio version 1.1.0-prerelease.20276.1"
      ]
     },
     "metadata": {},
     "output_type": "display_data"
    },
    {
     "data": {
      "text/plain": [
       "Installed package UnitsNet version 4.68.0"
      ]
     },
     "metadata": {},
     "output_type": "display_data"
    },
    {
     "data": {
      "text/plain": [
       "Installed package IoT.Device.Bindings version 1.1.0-prerelease.20276.1"
      ]
     },
     "metadata": {},
     "output_type": "display_data"
    }
   ],
   "source": [
    "#r \"nuget:System.Device.Gpio,1.1.0-prerelease.20276.1\"\n",
    "#r \"nuget:IoT.Device.Bindings,1.1.0-prerelease.20276.1\"\n",
    "#r \"nuget:UnitsNet,4.68.0\""
   ]
  },
  {
   "cell_type": "markdown",
   "metadata": {},
   "source": [
    "### Display the html"
   ]
  },
  {
   "cell_type": "code",
   "execution_count": 5,
   "metadata": {},
   "outputs": [
    {
     "data": {
      "text/html": [
       "<span><a href=\"https://github.com/rondagdag/dotnetcode-jupyter-talk\" target=\"blank\"><b>Presentation</b></a></span>"
      ]
     },
     "metadata": {},
     "output_type": "display_data"
    }
   ],
   "source": [
    "var pocketView = span(a[href:@\"https://github.com/rondagdag/dotnetcode-jupyter-talk\", target: \"blank\"](b(\"Presentation\")));\n",
    "display(pocketView)"
   ]
  },
  {
   "cell_type": "code",
   "execution_count": 6,
   "metadata": {},
   "outputs": [
    {
     "data": {
      "text/html": [
       "<b style=\"color:green\">98.72749633789061</b>"
      ]
     },
     "metadata": {},
     "output_type": "display_data"
    }
   ],
   "source": [
    "var someHtml = HTML(\"<b style=\\\"color:blue\\\">Sensor data!</b>\");\n",
    "var tempOutput = display(someHtml);"
   ]
  },
  {
   "cell_type": "code",
   "execution_count": 7,
   "metadata": {},
   "outputs": [],
   "source": [
    "using Iot.Device.SenseHat;\n",
    "using System;\n",
    "var temperatures = new List<(int idx, double val)>();\n",
    "\n",
    "async Task readTemperature(int count = 10){   \n",
    "    using (var sh = new SenseHat())\n",
    "    {\n",
    "        var initcount = temperatures.Count;\n",
    "        for (var i = initcount; i < initcount + count; i++){        \n",
    "            temperatures.Add((i, sh.Temperature2.DegreesFahrenheit));\n",
    "            tempOutput.Update(HTML($\"<b style=\\\"color:green\\\">{sh.Temperature2.DegreesFahrenheit}</b>\"));\n",
    "            await Task.Delay(500);\n",
    "        }\n",
    "    }\n",
    "}"
   ]
  },
  {
   "cell_type": "markdown",
   "metadata": {},
   "source": [
    "### Read Temperatures"
   ]
  },
  {
   "cell_type": "code",
   "execution_count": 8,
   "metadata": {},
   "outputs": [],
   "source": [
    "await readTemperature(15);"
   ]
  },
  {
   "cell_type": "code",
   "execution_count": 9,
   "metadata": {},
   "outputs": [],
   "source": [
    "using XPlot.Plotly;"
   ]
  },
  {
   "cell_type": "code",
   "execution_count": 10,
   "metadata": {},
   "outputs": [
    {
     "data": {
      "text/html": [
       "<table><thead><tr><th><i>index</i></th><th>value</th></tr></thead><tbody><tr><td>0</td><td>98.69374771118163</td></tr><tr><td>1</td><td>98.71249999999999</td></tr><tr><td>2</td><td>98.70500183105467</td></tr><tr><td>3</td><td>98.70500183105467</td></tr><tr><td>4</td><td>98.70125274658201</td></tr><tr><td>5</td><td>98.70875091552733</td></tr><tr><td>6</td><td>98.68999862670897</td></tr><tr><td>7</td><td>98.68624954223631</td></tr><tr><td>8</td><td>98.70125274658201</td></tr><tr><td>9</td><td>98.71624908447265</td></tr><tr><td>10</td><td>98.71624908447265</td></tr><tr><td>11</td><td>98.72374725341795</td></tr><tr><td>12</td><td>98.72374725341795</td></tr><tr><td>13</td><td>98.735001373291</td></tr><tr><td>14</td><td>98.72749633789061</td></tr></tbody></table>"
      ]
     },
     "execution_count": 10,
     "metadata": {},
     "output_type": "execute_result"
    }
   ],
   "source": [
    "var values = temperatures.Select(i => i.val);\n",
    "values"
   ]
  },
  {
   "cell_type": "code",
   "execution_count": 11,
   "metadata": {},
   "outputs": [],
   "source": [
    "var openSeries = new Graph.Scatter\n",
    "{\n",
    "    name = \"Open\",\n",
    "    x = temperatures.Select(i => i.idx),\n",
    "    y = values\n",
    "};\n",
    "\n",
    "\n",
    "var chart = Chart.Plot(new[] {openSeries});\n",
    "chart.WithTitle(\"Open\");"
   ]
  },
  {
   "cell_type": "markdown",
   "metadata": {},
   "source": [
    "### Display the chart"
   ]
  },
  {
   "cell_type": "code",
   "execution_count": 12,
   "metadata": {},
   "outputs": [
    {
     "data": {
      "text/html": [
       "<div id=\"1595d575-fcb6-4d9c-9295-04aeb8890c7c\" style=\"width: 900px; height: 500px;\"></div>\r\n",
       "<script type=\"text/javascript\">\n",
       "\r\n",
       "var renderPlotly = function() {\r\n",
       "    var xplotRequire = require.config({context:'xplot-3.0.1',paths:{plotly:'https://cdn.plot.ly/plotly-1.49.2.min'}}) || require;\r\n",
       "    xplotRequire(['plotly'], function(Plotly) {\n",
       "\n",
       "            var data = [{\"type\":\"scatter\",\"x\":[0,1,2,3,4,5,6,7,8,9,10,11,12,13,14],\"y\":[98.69374771118163,98.71249999999999,98.70500183105467,98.70500183105467,98.70125274658201,98.70875091552733,98.68999862670897,98.68624954223631,98.70125274658201,98.71624908447265,98.71624908447265,98.72374725341795,98.72374725341795,98.735001373291,98.72749633789061],\"name\":\"Open\"}];\n",
       "            var layout = {\"title\":\"Open\"};\n",
       "            Plotly.newPlot('1595d575-fcb6-4d9c-9295-04aeb8890c7c', data, layout);\n",
       "        \n",
       "});\r\n",
       "};\r\n",
       "if ((typeof(require) !==  typeof(Function)) || (typeof(require.config) !== typeof(Function))) {\r\n",
       "    var script = document.createElement(\"script\"); \r\n",
       "    script.setAttribute(\"src\", \"https://cdnjs.cloudflare.com/ajax/libs/require.js/2.3.6/require.min.js\");\r\n",
       "    script.onload = function(){\r\n",
       "        renderPlotly();\r\n",
       "    };\r\n",
       "    document.getElementsByTagName(\"head\")[0].appendChild(script); \r\n",
       "}\r\n",
       "else {\r\n",
       "    renderPlotly();\r\n",
       "}\n",
       "</script>\n"
      ]
     },
     "metadata": {},
     "output_type": "display_data"
    }
   ],
   "source": [
    "display(chart)"
   ]
  },
  {
   "cell_type": "markdown",
   "metadata": {},
   "source": [
    "### Instead of adding to list, let's setup Asycnronous Streams in C#"
   ]
  },
  {
   "cell_type": "code",
   "execution_count": 13,
   "metadata": {},
   "outputs": [],
   "source": [
    "async IAsyncEnumerable<double> ReadTemperatureAsync(int count = 10){   \n",
    "    using (var sh = new SenseHat())\n",
    "    {\n",
    "        for (var i = 0; i < count; i++){\n",
    "            await Task.Delay(1000);\n",
    "            yield return (sh.Temperature2.DegreesFahrenheit);\n",
    "        }\n",
    "    };\n",
    "}"
   ]
  },
  {
   "cell_type": "code",
   "execution_count": 14,
   "metadata": {},
   "outputs": [
    {
     "data": {
      "text/plain": [
       "Installed package Microsoft.Data.Analysis version 0.4.0"
      ]
     },
     "metadata": {},
     "output_type": "display_data"
    }
   ],
   "source": [
    "#r \"nuget:Microsoft.Data.Analysis\"\n",
    "using Microsoft.Data.Analysis;"
   ]
  },
  {
   "cell_type": "code",
   "execution_count": 15,
   "metadata": {},
   "outputs": [
    {
     "data": {
      "text/plain": [
       "98.93375091552733"
      ]
     },
     "metadata": {},
     "output_type": "display_data"
    }
   ],
   "source": [
    "var output = display(\"Counting...\");\n",
    "PrimitiveDataFrameColumn<DateTime> dateTimes = new PrimitiveDataFrameColumn<DateTime>(\"DateTimes\"); // Default length is 0.\n",
    "PrimitiveDataFrameColumn<double> fahrenheit = new PrimitiveDataFrameColumn<double>(\"Fahrenheit\"); // Makes a column of length 3. Filled with nulls initially\n",
    "\n",
    "await foreach (var result in ReadTemperatureAsync(15))\n",
    "{\n",
    "   output.Update(result);\n",
    "   dateTimes.Append(DateTime.Now);\n",
    "   fahrenheit.Append(result);\n",
    "}"
   ]
  },
  {
   "cell_type": "markdown",
   "metadata": {},
   "source": [
    "### create a new Dataframe with 2 columns"
   ]
  },
  {
   "cell_type": "code",
   "execution_count": 16,
   "metadata": {},
   "outputs": [],
   "source": [
    "DataFrame df =  new DataFrame(dateTimes, fahrenheit);"
   ]
  },
  {
   "cell_type": "code",
   "execution_count": 17,
   "metadata": {},
   "outputs": [
    {
     "data": {
      "text/html": [
       "<table><thead><tr><th>Columns</th><th>Rows</th></tr></thead><tbody><tr><td>[ [ 2020-08-15 14:05:30Z, 2020-08-15 14:05:32Z, 2020-08-15 14:05:33Z, 2020-08-15 14:05:34Z, 2020-08-15 14:05:35Z, 2020-08-15 14:05:36Z, 2020-08-15 14:05:37Z, 2020-08-15 14:05:38Z, 2020-08-15 14:05:39Z, 2020-08-15 14:05:40Z, 2020-08-15 14:05:41Z, 2020-08-15 14:05:42Z, 2020-08-15 14:05:43Z, 2020-08-15 14:05:44Z, 2020-08-15 14:05:45Z ], [ 98.89624633789062, 98.90000228881834, 98.88499908447264, 98.903751373291, 98.92625274658202, 98.93375091552733, 98.92250366210936, 98.94874725341796, 98.94874725341796, 98.90750045776366, 98.93375091552733, 98.960001373291, 98.97875366210937, 98.95249633789061, 98.93375091552733 ] ]</td><td>[ [ 2020-08-15 14:05:30Z, 98.89624633789062 ], [ 2020-08-15 14:05:32Z, 98.90000228881834 ], [ 2020-08-15 14:05:33Z, 98.88499908447264 ], [ 2020-08-15 14:05:34Z, 98.903751373291 ], [ 2020-08-15 14:05:35Z, 98.92625274658202 ], [ 2020-08-15 14:05:36Z, 98.93375091552733 ], [ 2020-08-15 14:05:37Z, 98.92250366210936 ], [ 2020-08-15 14:05:38Z, 98.94874725341796 ], [ 2020-08-15 14:05:39Z, 98.94874725341796 ], [ 2020-08-15 14:05:40Z, 98.90750045776366 ], [ 2020-08-15 14:05:41Z, 98.93375091552733 ], [ 2020-08-15 14:05:42Z, 98.960001373291 ], [ 2020-08-15 14:05:43Z, 98.97875366210937 ], [ 2020-08-15 14:05:44Z, 98.95249633789061 ], [ 2020-08-15 14:05:45Z, 98.93375091552733 ] ]</td></tr></tbody></table>"
      ]
     },
     "execution_count": 17,
     "metadata": {},
     "output_type": "execute_result"
    }
   ],
   "source": [
    "df"
   ]
  },
  {
   "cell_type": "code",
   "execution_count": 18,
   "metadata": {},
   "outputs": [],
   "source": [
    "using Microsoft.AspNetCore.Html;\n",
    "Formatter<DataFrame>.Register((df, writer) =>\n",
    "{\n",
    "    var headers = new List<IHtmlContent>();\n",
    "    headers.Add(th(i(\"index\")));\n",
    "    headers.AddRange(df.Columns.Select(c => (IHtmlContent) th(c.Name)));\n",
    "    var rows = new List<List<IHtmlContent>>();\n",
    "    var take = 5;\n",
    "    for (var i = 0; i < Math.Min(take, df.Rows.Count); i++)\n",
    "    {\n",
    "        var cells = new List<IHtmlContent>();\n",
    "        cells.Add(td(i));\n",
    "        foreach (var obj in df.Rows[i])\n",
    "        {\n",
    "            cells.Add(td(obj));\n",
    "        }\n",
    "        rows.Add(cells);\n",
    "    }\n",
    "    \n",
    "    var t = table(\n",
    "        thead(\n",
    "            headers),\n",
    "        tbody(\n",
    "            rows.Select(\n",
    "                r => tr(r))));\n",
    "    \n",
    "    writer.Write(t);\n",
    "}, \"text/html\");"
   ]
  },
  {
   "cell_type": "code",
   "execution_count": 19,
   "metadata": {},
   "outputs": [
    {
     "data": {
      "text/html": [
       "<table><thead><th><i>index</i></th><th>DateTimes</th><th>Fahrenheit</th></thead><tbody><tr><td>0</td><td>2020-08-15 14:05:30Z</td><td>98.89624633789062</td></tr><tr><td>1</td><td>2020-08-15 14:05:32Z</td><td>98.90000228881834</td></tr><tr><td>2</td><td>2020-08-15 14:05:33Z</td><td>98.88499908447264</td></tr><tr><td>3</td><td>2020-08-15 14:05:34Z</td><td>98.903751373291</td></tr><tr><td>4</td><td>2020-08-15 14:05:35Z</td><td>98.92625274658202</td></tr></tbody></table>"
      ]
     },
     "execution_count": 19,
     "metadata": {},
     "output_type": "execute_result"
    }
   ],
   "source": [
    "df"
   ]
  },
  {
   "cell_type": "code",
   "execution_count": 20,
   "metadata": {},
   "outputs": [
    {
     "data": {
      "text/html": [
       "<table><thead><tr><th><i>index</i></th><th>value</th></tr></thead><tbody><tr><td>0</td><td>[ 2020-08-15 14:05:30Z, 98.89624633789062 ]</td></tr><tr><td>1</td><td>[ 2020-08-15 14:05:32Z, 98.90000228881834 ]</td></tr></tbody></table>"
      ]
     },
     "execution_count": 20,
     "metadata": {},
     "output_type": "execute_result"
    }
   ],
   "source": [
    "var a = df.Rows.Take(2);\n",
    "a"
   ]
  },
  {
   "cell_type": "markdown",
   "metadata": {},
   "source": [
    "### Count the number of rows"
   ]
  },
  {
   "cell_type": "code",
   "execution_count": 21,
   "metadata": {},
   "outputs": [
    {
     "data": {
      "text/html": [
       "15"
      ]
     },
     "execution_count": 21,
     "metadata": {},
     "output_type": "execute_result"
    }
   ],
   "source": [
    "var total = df.Rows.Count();\n",
    "total"
   ]
  },
  {
   "cell_type": "code",
   "execution_count": 22,
   "metadata": {},
   "outputs": [
    {
     "data": {
      "text/html": [
       "<table><thead><th><i>index</i></th><th>DateTimes</th><th>Fahrenheit</th><th>Celcius</th></thead><tbody><tr><td>0</td><td>2020-08-15 14:05:30Z</td><td>98.89624633789062</td><td>&lt;null&gt;</td></tr><tr><td>1</td><td>2020-08-15 14:05:32Z</td><td>98.90000228881834</td><td>&lt;null&gt;</td></tr><tr><td>2</td><td>2020-08-15 14:05:33Z</td><td>98.88499908447264</td><td>&lt;null&gt;</td></tr><tr><td>3</td><td>2020-08-15 14:05:34Z</td><td>98.903751373291</td><td>&lt;null&gt;</td></tr><tr><td>4</td><td>2020-08-15 14:05:35Z</td><td>98.92625274658202</td><td>&lt;null&gt;</td></tr></tbody></table>"
      ]
     },
     "execution_count": 22,
     "metadata": {},
     "output_type": "execute_result"
    }
   ],
   "source": [
    "PrimitiveDataFrameColumn<double> celcius = new PrimitiveDataFrameColumn<double>(\"Celcius\", total);\n",
    "var newDf = df.Clone();\n",
    "newDf.Columns.Insert(2, celcius);\n",
    "newDf"
   ]
  },
  {
   "cell_type": "code",
   "execution_count": 23,
   "metadata": {},
   "outputs": [
    {
     "data": {
      "text/html": [
       "<table><thead><th><i>index</i></th><th>Info</th><th>DateTimes</th><th>Fahrenheit</th><th>Celcius</th></thead><tbody><tr><td>0</td><td>DataType</td><td>System.DateTime</td><td>System.Double</td><td>System.Double</td></tr><tr><td>1</td><td>Length (excluding null values)</td><td>15</td><td>15</td><td>0</td></tr></tbody></table>"
      ]
     },
     "execution_count": 23,
     "metadata": {},
     "output_type": "execute_result"
    }
   ],
   "source": [
    "var info = newDf.Info();\n",
    "info"
   ]
  },
  {
   "cell_type": "code",
   "execution_count": 24,
   "metadata": {},
   "outputs": [
    {
     "data": {
      "text/html": [
       "<table><thead><th><i>index</i></th><th>DateTimes</th><th>Fahrenheit</th><th>Celcius</th></thead><tbody><tr><td>0</td><td>2020-08-15 14:05:30Z</td><td>98.89624633789062</td><td>0</td></tr><tr><td>1</td><td>2020-08-15 14:05:32Z</td><td>98.90000228881834</td><td>0</td></tr><tr><td>2</td><td>2020-08-15 14:05:33Z</td><td>98.88499908447264</td><td>0</td></tr><tr><td>3</td><td>2020-08-15 14:05:34Z</td><td>98.903751373291</td><td>0</td></tr><tr><td>4</td><td>2020-08-15 14:05:35Z</td><td>98.92625274658202</td><td>0</td></tr></tbody></table>"
      ]
     },
     "execution_count": 24,
     "metadata": {},
     "output_type": "execute_result"
    }
   ],
   "source": [
    "celcius.FillNulls(0, inPlace: true);\n",
    "newDf"
   ]
  },
  {
   "cell_type": "code",
   "execution_count": 27,
   "metadata": {},
   "outputs": [
    {
     "data": {
      "text/html": [
       "<table><thead><tr><th><i>index</i></th><th><i>type</i></th><th>value</th></tr></thead><tbody><tr><td>0</td><td>System.DateTime</td><td>2020-08-15 14:05:30Z</td></tr><tr><td>1</td><td>System.Double</td><td>98.89624633789062</td></tr><tr><td>2</td><td>System.Double</td><td>0</td></tr></tbody></table>"
      ]
     },
     "execution_count": 27,
     "metadata": {},
     "output_type": "execute_result"
    }
   ],
   "source": [
    "DataFrameRow row0 = newDf.Rows[0];\n",
    "row0"
   ]
  },
  {
   "cell_type": "markdown",
   "metadata": {},
   "source": [
    "### Convert Fahrenheit and fill the Celcius"
   ]
  },
  {
   "cell_type": "code",
   "execution_count": 28,
   "metadata": {},
   "outputs": [
    {
     "data": {
      "text/html": [
       "<table><thead><th><i>index</i></th><th>DateTimes</th><th>Fahrenheit</th><th>Celcius</th></thead><tbody><tr><td>0</td><td>2020-08-15 14:05:30Z</td><td>98.89624633789062</td><td>37.16458129882812</td></tr><tr><td>1</td><td>2020-08-15 14:05:32Z</td><td>98.90000228881834</td><td>37.16666793823241</td></tr><tr><td>2</td><td>2020-08-15 14:05:33Z</td><td>98.88499908447264</td><td>37.15833282470702</td></tr><tr><td>3</td><td>2020-08-15 14:05:34Z</td><td>98.903751373291</td><td>37.168750762939446</td></tr><tr><td>4</td><td>2020-08-15 14:05:35Z</td><td>98.92625274658202</td><td>37.1812515258789</td></tr></tbody></table>"
      ]
     },
     "execution_count": 28,
     "metadata": {},
     "output_type": "execute_result"
    }
   ],
   "source": [
    "newDf.Columns[\"Celcius\"] = (fahrenheit - 32) * 5/9;\n",
    "newDf"
   ]
  },
  {
   "cell_type": "code",
   "execution_count": 29,
   "metadata": {},
   "outputs": [
    {
     "data": {
      "text/html": [
       "37.18263905843098"
      ]
     },
     "execution_count": 29,
     "metadata": {},
     "output_type": "execute_result"
    }
   ],
   "source": [
    "var celciusMean = newDf.Columns[\"Celcius\"].Mean();\n",
    "celciusMean"
   ]
  },
  {
   "cell_type": "code",
   "execution_count": 30,
   "metadata": {},
   "outputs": [
    {
     "data": {
      "text/html": [
       "<div id=\"0ba47344-160f-4ab0-8ef5-bb6077db52b5\" style=\"width: 900px; height: 500px;\"></div>\r\n",
       "<script type=\"text/javascript\">\n",
       "\r\n",
       "var renderPlotly = function() {\r\n",
       "    var xplotRequire = require.config({context:'xplot-3.0.1',paths:{plotly:'https://cdn.plot.ly/plotly-1.49.2.min'}}) || require;\r\n",
       "    xplotRequire(['plotly'], function(Plotly) {\n",
       "\n",
       "            var data = [{\"type\":\"scatter\",\"x\":[\"2020-08-15T14:05:30.99038-05:00\",\"2020-08-15T14:05:32.081417-05:00\",\"2020-08-15T14:05:33.0774906-05:00\",\"2020-08-15T14:05:34.0763477-05:00\",\"2020-08-15T14:05:35.084674-05:00\",\"2020-08-15T14:05:36.0892531-05:00\",\"2020-08-15T14:05:37.0888503-05:00\",\"2020-08-15T14:05:38.0877856-05:00\",\"2020-08-15T14:05:39.0905403-05:00\",\"2020-08-15T14:05:40.0892151-05:00\",\"2020-08-15T14:05:41.0874291-05:00\",\"2020-08-15T14:05:42.0878784-05:00\",\"2020-08-15T14:05:43.0904562-05:00\",\"2020-08-15T14:05:44.0901701-05:00\",\"2020-08-15T14:05:45.0904295-05:00\"],\"y\":[37.16458129882812,37.16666793823241,37.15833282470702,37.168750762939446,37.1812515258789,37.185417175292955,37.17916870117187,37.193748474121094,37.193748474121094,37.17083358764648,37.185417175292955,37.200000762939446,37.210418701171875,37.19583129882811,37.185417175292955]}];\n",
       "            var layout = \"\";\n",
       "            Plotly.newPlot('0ba47344-160f-4ab0-8ef5-bb6077db52b5', data, layout);\n",
       "        \n",
       "});\r\n",
       "};\r\n",
       "if ((typeof(require) !==  typeof(Function)) || (typeof(require.config) !== typeof(Function))) {\r\n",
       "    var script = document.createElement(\"script\"); \r\n",
       "    script.setAttribute(\"src\", \"https://cdnjs.cloudflare.com/ajax/libs/require.js/2.3.6/require.min.js\");\r\n",
       "    script.onload = function(){\r\n",
       "        renderPlotly();\r\n",
       "    };\r\n",
       "    document.getElementsByTagName(\"head\")[0].appendChild(script); \r\n",
       "}\r\n",
       "else {\r\n",
       "    renderPlotly();\r\n",
       "}\n",
       "</script>\n"
      ]
     },
     "execution_count": 30,
     "metadata": {},
     "output_type": "execute_result"
    }
   ],
   "source": [
    "Chart.Plot(\n",
    "    new Graph.Scatter()\n",
    "    {\n",
    "        x = newDf.Columns[\"DateTimes\"],\n",
    "        y = newDf.Columns[\"Celcius\"]\n",
    "    }\n",
    ")"
   ]
  },
  {
   "cell_type": "code",
   "execution_count": 32,
   "metadata": {},
   "outputs": [],
   "source": [
    "var tempData = new List<double>();\n",
    "\n",
    "async Task readTempData(int count = 10){   \n",
    "    using (var sh = new SenseHat())\n",
    "    {\n",
    "        for (var i = 0; i < count; i++){        \n",
    "            if(tempData.Count > 10){\n",
    "                tempData.RemoveAt(0);\n",
    "            }\n",
    "            tempData.Add(sh.Temperature2.DegreesFahrenheit);\n",
    "            Console.WriteLine(sh.Temperature2.DegreesFahrenheit);\n",
    "            await Task.Delay(500);\n",
    "        }\n",
    "    }\n",
    "}"
   ]
  },
  {
   "cell_type": "code",
   "execution_count": 37,
   "metadata": {},
   "outputs": [
    {
     "data": {
      "text/html": [
       "<script type=\"text/javascript\">if (typeof window.createDotnetInteractiveClient === typeof Function) {\r\n",
       "createDotnetInteractiveClient('http://192.168.1.20:1024/').then(function (interactive) {\r\n",
       "let notebookScope = getDotnetInteractiveScope('http://192.168.1.20:1024/');\r\n",
       "\n",
       "\n",
       "if (typeof (notebookScope.interval) !== 'undefined') {\n",
       "    clearInterval(notebookScope.interval);\n",
       "}\n",
       "\n",
       "notebookScope.plot = (sgvSelector, variableName) => {   \n",
       "    let dtree_require = require.config({\n",
       "        paths: {\n",
       "            d3: \"https://d3js.org/d3.v5.min\"\n",
       "        }\n",
       "    });\n",
       "    dtree_require([\"d3\"], function (d3) {       \n",
       "        let svg = d3.select(sgvSelector);\n",
       "        svg.selectAll(\"defs\").remove();\n",
       "        svg.selectAll(\"g\").remove();\n",
       "        \n",
       "        var margin = {top: 0, right: 30, bottom: 30, left: 40},\n",
       "            width = 260 - margin.left - margin.right,\n",
       "            height = 200 - margin.top - margin.bottom;\n",
       "        \n",
       "        let container = d3\n",
       "            .select(sgvSelector);\n",
       "        \n",
       "         var width = 260 \n",
       "            scaleFactor = 20, \n",
       "            barHeight = 30;\n",
       "         \n",
       "         var graph = d3.select(\"body\")\n",
       "            .append(\"svg\")\n",
       "                .attr(\"width\", width + margin.left + margin.right)\n",
       "                .attr(\"height\", height + margin.top + margin.bottom)\n",
       "            .append(\"g\")\n",
       "                .attr(\"transform\",\n",
       "                      \"translate(\" + margin.left + \",\" + margin.top + \")\");\n",
       "        \n",
       "        // Add X axis\n",
       "          var x = d3.scaleLinear()\n",
       "            .domain([0, 10])\n",
       "            .range([ width, 0 ]);\n",
       "        \n",
       "          svg.append(\"g\")\n",
       "            .attr(\"transform\", \"translate(\" + margin.left + \",\" + height + \")\")\n",
       "            .call(d3.axisBottom(x));\n",
       "\n",
       "      // Add Y axis\n",
       "          var y = d3.scaleLinear()\n",
       "            .domain([99, 101])\n",
       "            .range([ height, 0]);\n",
       "        \n",
       "          svg.append(\"g\")\n",
       "            .attr(\"transform\", \"translate(\" + margin.left + \", 0)\")\n",
       "            .call(d3.axisLeft(y));\n",
       "\n",
       "        updateD3Rendering = () => interactive.csharp.getVariable(variableName)\n",
       "            .then(data => {\n",
       "                console.log(data);\n",
       "                container\n",
       "                    .selectAll(\".points\")\n",
       "                    .data(data, (d, i) => i)\n",
       "                    .join(\n",
       "                        enter => enter.append(\"circle\")\n",
       "                            .attr(\"cx\", (d, i) => { console.log(\"i:\" + i); return margin.left + x(i); } )\n",
       "                            .attr(\"cy\", function (d) { console.log(\"d:\" + d); return y(d); } )\n",
       "                            .attr(\"r\", 2.5)\n",
       "                            .style(\"fill\", \"#69b3a2\")\n",
       "                            .transition()\n",
       "                            .duration(2000)                            \n",
       "                            .attr(\"r\", 0 ).remove(),\n",
       "                        update => update\n",
       "                            .transition()\n",
       "                             .attr(\"class\", \"line\")\n",
       "                             .attr(\"d\", valueline)\n",
       "                            );\n",
       "            });\n",
       "        notebookScope.interval = setInterval(() => updateD3Rendering(), 1000);\n",
       "    });\n",
       "}\r\n",
       "});\r\n",
       "}</script>"
      ]
     },
     "metadata": {},
     "output_type": "display_data"
    }
   ],
   "source": [
    "#!js \n",
    "\n",
    "if (typeof (notebookScope.interval) !== 'undefined') {\n",
    "    clearInterval(notebookScope.interval);\n",
    "}\n",
    "\n",
    "notebookScope.plot = (sgvSelector, variableName) => {   \n",
    "    let dtree_require = require.config({\n",
    "        paths: {\n",
    "            d3: \"https://d3js.org/d3.v5.min\"\n",
    "        }\n",
    "    });\n",
    "    dtree_require([\"d3\"], function (d3) {       \n",
    "        let svg = d3.select(sgvSelector);\n",
    "        svg.selectAll(\"defs\").remove();\n",
    "        svg.selectAll(\"g\").remove();\n",
    "        \n",
    "        var margin = {top: 0, right: 30, bottom: 30, left: 40},\n",
    "            width = 260 - margin.left - margin.right,\n",
    "            height = 200 - margin.top - margin.bottom;\n",
    "        \n",
    "        let container = d3\n",
    "            .select(sgvSelector);\n",
    "        \n",
    "         var width = 260 \n",
    "            scaleFactor = 20, \n",
    "            barHeight = 30;\n",
    "         \n",
    "         var graph = d3.select(\"body\")\n",
    "            .append(\"svg\")\n",
    "                .attr(\"width\", width + margin.left + margin.right)\n",
    "                .attr(\"height\", height + margin.top + margin.bottom)\n",
    "            .append(\"g\")\n",
    "                .attr(\"transform\",\n",
    "                      \"translate(\" + margin.left + \",\" + margin.top + \")\");\n",
    "        \n",
    "        // Add X axis\n",
    "          var x = d3.scaleLinear()\n",
    "            .domain([0, 10])\n",
    "            .range([ width, 0 ]);\n",
    "        \n",
    "          svg.append(\"g\")\n",
    "            .attr(\"transform\", \"translate(\" + margin.left + \",\" + height + \")\")\n",
    "            .call(d3.axisBottom(x));\n",
    "\n",
    "      // Add Y axis\n",
    "          var y = d3.scaleLinear()\n",
    "            .domain([99, 101])\n",
    "            .range([ height, 0]);\n",
    "        \n",
    "          svg.append(\"g\")\n",
    "            .attr(\"transform\", \"translate(\" + margin.left + \", 0)\")\n",
    "            .call(d3.axisLeft(y));\n",
    "\n",
    "        updateD3Rendering = () => interactive.csharp.getVariable(variableName)\n",
    "            .then(data => {\n",
    "                console.log(data);\n",
    "                container\n",
    "                    .selectAll(\".points\")\n",
    "                    .data(data, (d, i) => i)\n",
    "                    .join(\n",
    "                        enter => enter.append(\"circle\")\n",
    "                            .attr(\"cx\", (d, i) => { console.log(\"i:\" + i); return margin.left + x(i); } )\n",
    "                            .attr(\"cy\", function (d) { console.log(\"d:\" + d); return y(d); } )\n",
    "                            .attr(\"r\", 2.5)\n",
    "                            .style(\"fill\", \"#69b3a2\")\n",
    "                            .transition()\n",
    "                            .duration(2000)                            \n",
    "                            .attr(\"r\", 0 ).remove(),\n",
    "                        update => update\n",
    "                            .transition()\n",
    "                             .attr(\"class\", \"line\")\n",
    "                             .attr(\"d\", valueline)\n",
    "                            );\n",
    "            });\n",
    "        notebookScope.interval = setInterval(() => updateD3Rendering(), 1000);\n",
    "    });\n",
    "}"
   ]
  },
  {
   "cell_type": "markdown",
   "metadata": {},
   "source": [
    "### Plot and call javascript "
   ]
  },
  {
   "cell_type": "code",
   "execution_count": 38,
   "metadata": {
    "scrolled": true
   },
   "outputs": [
    {
     "data": {
      "text/html": [
       "\n",
       "<svg id=\"dataPlot1\" width=500 height=200>\n",
       "</svg>\n",
       "\n"
      ]
     },
     "metadata": {},
     "output_type": "display_data"
    },
    {
     "data": {
      "text/html": [
       "<script type=\"text/javascript\">if (typeof window.createDotnetInteractiveClient === typeof Function) {\r\n",
       "createDotnetInteractiveClient('http://192.168.1.20:1024/').then(function (interactive) {\r\n",
       "let notebookScope = getDotnetInteractiveScope('http://192.168.1.20:1024/');\r\n",
       "\n",
       "notebookScope.plot(\"svg#dataPlot1\", \"tempData\")\r\n",
       "});\r\n",
       "}</script>"
      ]
     },
     "metadata": {},
     "output_type": "display_data"
    }
   ],
   "source": [
    "#!html\n",
    "<svg id=\"dataPlot1\" width=500 height=200>\n",
    "</svg>\n",
    "\n",
    "#!js\n",
    "notebookScope.plot(\"svg#dataPlot1\", \"tempData\")"
   ]
  },
  {
   "cell_type": "code",
   "execution_count": 39,
   "metadata": {},
   "outputs": [
    {
     "name": "stdout",
     "output_type": "stream",
     "text": [
      "99.24500045776367\n",
      "99.25624771118163\n",
      "99.25624771118163\n",
      "99.26375274658201\n",
      "99.26375274658201\n",
      "99.27874908447265\n",
      "99.28999633789061\n",
      "99.31249771118163\n",
      "99.31249771118163\n",
      "99.297501373291\n",
      "99.27874908447265\n",
      "99.27499999999999\n",
      "99.27874908447265\n",
      "99.28624725341795\n",
      "99.27499999999999\n",
      "99.26000366210937\n",
      "99.241251373291\n",
      "99.26750183105467\n",
      "99.26000366210937\n",
      "99.26375274658201\n",
      "99.27499999999999\n",
      "99.28624725341795\n",
      "99.29375228881835\n",
      "99.30499954223632\n",
      "99.30874862670898\n",
      "99.297501373291\n",
      "99.297501373291\n",
      "99.30874862670898\n",
      "99.31625366210936\n",
      "99.33124999999998\n",
      "99.32000274658202\n",
      "99.32000274658202\n",
      "99.32750091552734\n",
      "99.34249725341796\n",
      "99.34624633789062\n",
      "99.3387481689453\n",
      "99.33499908447264\n",
      "99.3387481689453\n",
      "99.353751373291\n",
      "99.33499908447264\n",
      "99.33124999999998\n",
      "99.32375183105468\n",
      "99.32375183105468\n",
      "99.32750091552734\n",
      "99.34624633789062\n",
      "99.34249725341796\n",
      "99.34249725341796\n",
      "99.3387481689453\n",
      "99.35000228881835\n",
      "99.38000183105467\n"
     ]
    }
   ],
   "source": [
    "await readTempData(50);"
   ]
  },
  {
   "cell_type": "code",
   "execution_count": 40,
   "metadata": {},
   "outputs": [
    {
     "data": {
      "text/html": [
       "11"
      ]
     },
     "execution_count": 40,
     "metadata": {},
     "output_type": "execute_result"
    }
   ],
   "source": [
    "tempData.Count"
   ]
  },
  {
   "cell_type": "code",
   "execution_count": 41,
   "metadata": {},
   "outputs": [],
   "source": [
    "using System;\n",
    "using System.Drawing;\n",
    "async Task readTempCondition(int count = 10, double maxTemp = 100){   \n",
    "    using (var ledMatrix = new SenseHatLedMatrixI2c())\n",
    "    using (var sh = new SenseHat())\n",
    "    {\n",
    "        ledMatrix.Fill(Color.Black);\n",
    "        for (var i = 0; i < count; i++){\n",
    "            var temp = sh.Temperature2.DegreesFahrenheit;\n",
    "            Console.WriteLine(temp);\n",
    "            if (temp > maxTemp) {\n",
    "                ledMatrix.Fill(Color.Red);\n",
    "            } \n",
    "            await Task.Delay(500);\n",
    "        }\n",
    "    }\n",
    "}"
   ]
  },
  {
   "cell_type": "markdown",
   "metadata": {},
   "source": [
    "### read temperature 50 times and add max temp condition"
   ]
  },
  {
   "cell_type": "code",
   "execution_count": 45,
   "metadata": {},
   "outputs": [
    {
     "name": "stdout",
     "output_type": "stream",
     "text": [
      "99.75874862670898\n",
      "99.75499954223632\n",
      "99.75499954223632\n",
      "99.747501373291\n",
      "99.71750183105468\n",
      "99.70624771118163\n",
      "99.71000366210936\n",
      "99.71375274658202\n",
      "99.72125091552734\n",
      "99.725\n",
      "99.72874908447264\n",
      "99.73624725341796\n",
      "99.73624725341796\n",
      "99.73999633789062\n",
      "99.74375228881834\n"
     ]
    }
   ],
   "source": [
    "await readTempCondition(15, 99.75);"
   ]
  },
  {
   "cell_type": "markdown",
   "metadata": {},
   "source": [
    "### clear the ledMatrix to \"black\""
   ]
  },
  {
   "cell_type": "code",
   "execution_count": 46,
   "metadata": {},
   "outputs": [],
   "source": [
    "using (var ledMatrix = new SenseHatLedMatrixI2c())\n",
    "{\n",
    "        ledMatrix.Fill(Color.Black);\n",
    "}\n"
   ]
  },
  {
   "cell_type": "markdown",
   "metadata": {},
   "source": [
    "## @rondagdag"
   ]
  },
  {
   "cell_type": "markdown",
   "metadata": {},
   "source": [
    "## https://www.linkedin.com/in/rondagdag"
   ]
  },
  {
   "cell_type": "code",
   "execution_count": null,
   "metadata": {},
   "outputs": [],
   "source": []
  }
 ],
 "metadata": {
  "kernelspec": {
   "display_name": ".NET (C#)",
   "language": "C#",
   "name": ".net-csharp"
  },
  "language_info": {
   "file_extension": ".cs",
   "mimetype": "text/x-csharp",
   "name": "C#",
   "pygments_lexer": "csharp",
   "version": "8.0"
  }
 },
 "nbformat": 4,
 "nbformat_minor": 4
}
