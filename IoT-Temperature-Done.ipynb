{
 "cells": [
  {
   "cell_type": "markdown",
   "metadata": {},
   "source": [
    "# Men from Mars, Women from Venus: both can code .NET in Jupyter"
   ]
  },
  {
   "cell_type": "markdown",
   "metadata": {},
   "source": [
    "@rondagdag"
   ]
  },
  {
   "cell_type": "markdown",
   "metadata": {},
   "source": [
    "### .NET Interactive https://github.com/dotnet/interactive"
   ]
  },
  {
   "cell_type": "markdown",
   "metadata": {},
   "source": [
    "### To install in raspberry pi\n",
    "follow instructions at \n",
    "https://github.com/dotnet/interactive/blob/main/docs/small-factor-devices.md\n",
    "```\n",
    "curl -L https://raw.githubusercontent.com/dotnet/interactive/master/tools/setup-raspbian-jupyter.sh | bash -e\n",
    "source .jupyter_venv/bin/activate\n",
    "jupyter lab --ip 0.0.0.0\n",
    "\n",
    "```\n",
    "\n",
    "Rasperry Pi Sense Hat installation instructions\n",
    "https://www.raspberrypi.org/documentation/hardware/sense-hat/"
   ]
  },
  {
   "cell_type": "code",
   "execution_count": 1,
   "metadata": {},
   "outputs": [
    {
     "data": {
      "text/html": [
       "\r\n",
       "<div>\r\n",
       "    <div id='dotnet-interactive-this-cell-1069.Microsoft.DotNet.Interactive.Http.HttpPort' style='display: none'>\r\n",
       "        The below script needs to be able to find the current output cell; this is an easy method to get it.\r\n",
       "    </div>\r\n",
       "    <script type='text/javascript'>\r\n",
       "async function probeAddresses(probingAddresses) {\r\n",
       "    function timeout(ms, promise) {\r\n",
       "        return new Promise(function (resolve, reject) {\r\n",
       "            setTimeout(function () {\r\n",
       "                reject(new Error('timeout'))\r\n",
       "            }, ms)\r\n",
       "            promise.then(resolve, reject)\r\n",
       "        })\r\n",
       "    }\r\n",
       "\r\n",
       "    if (Array.isArray(probingAddresses)) {\r\n",
       "        for (let i = 0; i < probingAddresses.length; i++) {\r\n",
       "\r\n",
       "            let rootUrl = probingAddresses[i];\r\n",
       "\r\n",
       "            if (!rootUrl.endsWith('/')) {\r\n",
       "                rootUrl = `${rootUrl}/`;\r\n",
       "            }\r\n",
       "\r\n",
       "            try {\r\n",
       "                let response = await timeout(1000, fetch(`${rootUrl}discovery`, {\r\n",
       "                    method: 'POST',\r\n",
       "                    cache: 'no-cache',\r\n",
       "                    mode: 'cors',\r\n",
       "                    timeout: 1000,\r\n",
       "                    headers: {\r\n",
       "                        'Content-Type': 'text/plain'\r\n",
       "                    },\r\n",
       "                    body: probingAddresses[i]\r\n",
       "                }));\r\n",
       "\r\n",
       "                if (response.status == 200) {\r\n",
       "                    return rootUrl;\r\n",
       "                }\r\n",
       "            }\r\n",
       "            catch (e) { }\r\n",
       "        }\r\n",
       "    }\r\n",
       "}\r\n",
       "\r\n",
       "function loadDotnetInteractiveApi() {\r\n",
       "    probeAddresses([\"http://192.168.1.76:1024/\", \"http://127.0.0.1:1024/\"])\r\n",
       "        .then((root) => {\r\n",
       "        // use probing to find host url and api resources\r\n",
       "        // load interactive helpers and language services\r\n",
       "        let dotnetInteractiveRequire = require.config({\r\n",
       "        context: '1069.Microsoft.DotNet.Interactive.Http.HttpPort',\r\n",
       "                paths:\r\n",
       "            {\r\n",
       "                'dotnet-interactive': `${root}resources`\r\n",
       "                }\r\n",
       "        }) || require;\r\n",
       "\r\n",
       "            window.dotnetInteractiveRequire = dotnetInteractiveRequire;\r\n",
       "\r\n",
       "            window.configureRequireFromExtension = function(extensionName, extensionCacheBuster) {\r\n",
       "                let paths = {};\r\n",
       "                paths[extensionName] = `${root}extensions/${extensionName}/resources/`;\r\n",
       "                \r\n",
       "                let internalRequire = require.config({\r\n",
       "                    context: extensionCacheBuster,\r\n",
       "                    paths: paths,\r\n",
       "                    urlArgs: `cacheBuster=${extensionCacheBuster}`\r\n",
       "                    }) || require;\r\n",
       "\r\n",
       "                return internalRequire\r\n",
       "            };\r\n",
       "        \r\n",
       "            dotnetInteractiveRequire([\r\n",
       "                    'dotnet-interactive/dotnet-interactive'\r\n",
       "                ],\r\n",
       "                function (dotnet) {\r\n",
       "                    dotnet.init(window);\r\n",
       "                },\r\n",
       "                function (error) {\r\n",
       "                    console.log(error);\r\n",
       "                }\r\n",
       "            );\r\n",
       "        })\r\n",
       "        .catch(error => {console.log(error);});\r\n",
       "    }\r\n",
       "\r\n",
       "// ensure `require` is available globally\r\n",
       "if ((typeof(require) !==  typeof(Function)) || (typeof(require.config) !== typeof(Function))) {\r\n",
       "    let require_script = document.createElement('script');\r\n",
       "    require_script.setAttribute('src', 'https://cdnjs.cloudflare.com/ajax/libs/require.js/2.3.6/require.min.js');\r\n",
       "    require_script.setAttribute('type', 'text/javascript');\r\n",
       "    \r\n",
       "    \r\n",
       "    require_script.onload = function() {\r\n",
       "        loadDotnetInteractiveApi();\r\n",
       "    };\r\n",
       "\r\n",
       "    document.getElementsByTagName('head')[0].appendChild(require_script);\r\n",
       "}\r\n",
       "else {\r\n",
       "    loadDotnetInteractiveApi();\r\n",
       "}\r\n",
       "\r\n",
       "    </script>\r\n",
       "</div>"
      ]
     },
     "metadata": {},
     "output_type": "display_data"
    },
    {
     "data": {
      "text/html": [
       "<div><h3>.NET kernel</h3><div><div style=\"text-indent:1.5em\"><pre><span style=\"text-indent:1.5em; color:#512bd4\">#!sql</span></pre><div style=\"text-indent:3em\">Run the code that follows using the sql kernel.</div></div><div style=\"text-indent:1.5em\"><pre><span style=\"text-indent:1.5em; color:#512bd4\">#!kql</span></pre><div style=\"text-indent:3em\">Run the code that follows using the kql kernel.</div></div><div style=\"text-indent:1.5em\"><pre><span style=\"text-indent:1.5em; color:#512bd4\">#!csharp</span><span style=\"text-indent:1.5em; color:darkgray\">, </span><span style=\"text-indent:1.5em; color:#512bd4\">#!c#</span><span style=\"text-indent:1.5em; color:darkgray\">, </span><span style=\"text-indent:1.5em; color:#512bd4\">#!C#</span></pre><div style=\"text-indent:3em\">Run the code that follows using the csharp kernel.</div></div><div style=\"text-indent:1.5em\"><pre><span style=\"text-indent:1.5em; color:#512bd4\">#!fsharp</span><span style=\"text-indent:1.5em; color:darkgray\">, </span><span style=\"text-indent:1.5em; color:#512bd4\">#!f#</span><span style=\"text-indent:1.5em; color:darkgray\">, </span><span style=\"text-indent:1.5em; color:#512bd4\">#!F#</span></pre><div style=\"text-indent:3em\">Run the code that follows using the fsharp kernel.</div></div><div style=\"text-indent:1.5em\"><pre><span style=\"text-indent:1.5em; color:#512bd4\">#!pwsh</span><span style=\"text-indent:1.5em; color:darkgray\">, </span><span style=\"text-indent:1.5em; color:#512bd4\">#!powershell</span></pre><div style=\"text-indent:3em\">Run the code that follows using the pwsh kernel.</div></div><div style=\"text-indent:1.5em\"><pre><span style=\"text-indent:1.5em; color:#512bd4\">#!html</span></pre><div style=\"text-indent:3em\">Run the code that follows using the html kernel.</div></div><div style=\"text-indent:1.5em\"><pre><span style=\"text-indent:1.5em; color:#512bd4\">#!value</span></pre><div style=\"text-indent:3em\">Stores a value that can then be shared with other subkernels.</div></div><div style=\"text-indent:1.5em\"><pre><span style=\"text-indent:1.5em; color:#512bd4\">#!lsmagic</span></pre><div style=\"text-indent:3em\">List the available magic commands / directives</div></div><div style=\"text-indent:1.5em\"><pre><span style=\"text-indent:1.5em; color:#512bd4\">#!markdown</span></pre><div style=\"text-indent:3em\">Convert the code that follows from Markdown into HTML</div></div><div style=\"text-indent:1.5em\"><pre><span style=\"text-indent:1.5em; color:#512bd4\">#!time</span></pre><div style=\"text-indent:3em\">Time the execution of the following code in the submission.</div></div><div style=\"text-indent:1.5em\"><pre><span style=\"text-indent:1.5em; color:#512bd4\">#!log</span></pre><div style=\"text-indent:3em\">Enables session logging.</div></div><div style=\"text-indent:1.5em\"><pre><span style=\"text-indent:1.5em; color:#512bd4\">#!about</span></pre><div style=\"text-indent:3em\">Show version and build information</div></div><div style=\"text-indent:1.5em\"><pre><span style=\"text-indent:1.5em; color:#512bd4\">#!connect</span></pre><div style=\"text-indent:3em\">Connects additional subkernels</div><div style=\"text-indent:3em\"><pre><span style=\"text-indent:4.5em; color:#512bd4\">named-pipe</span></pre><div style=\"text-indent:6em\">Connects to a kernel using named pipes</div></div><div style=\"text-indent:3em\"><pre><span style=\"text-indent:4.5em; color:#512bd4\">signalr</span></pre><div style=\"text-indent:6em\">Connects to a kernel using SignalR</div></div><div style=\"text-indent:3em\"><pre><span style=\"text-indent:4.5em; color:#512bd4\">stdio</span></pre><div style=\"text-indent:6em\">Connects to a kernel using the stdio protocol</div></div></div><div style=\"text-indent:1.5em\"><pre><span style=\"text-indent:1.5em; color:#512bd4\">#!javascript</span><span style=\"text-indent:1.5em; color:darkgray\">, </span><span style=\"text-indent:1.5em; color:#512bd4\">#!js</span></pre><div style=\"text-indent:3em\">Run the code that follows using the javascript kernel.</div></div></div></div>"
      ]
     },
     "metadata": {},
     "output_type": "display_data"
    },
    {
     "data": {
      "text/html": [
       "<div><h3>sql kernel</h3><div><div style=\"text-indent:1.5em\"><pre><span style=\"text-indent:1.5em; color:#512bd4\">#!lsmagic</span></pre><div style=\"text-indent:3em\">List the available magic commands / directives</div></div></div></div>"
      ]
     },
     "metadata": {},
     "output_type": "display_data"
    },
    {
     "data": {
      "text/html": [
       "<div><h3>kql kernel</h3><div><div style=\"text-indent:1.5em\"><pre><span style=\"text-indent:1.5em; color:#512bd4\">#!lsmagic</span></pre><div style=\"text-indent:3em\">List the available magic commands / directives</div></div></div></div>"
      ]
     },
     "metadata": {},
     "output_type": "display_data"
    },
    {
     "data": {
      "text/html": [
       "<div><h3>csharp kernel</h3><div><div style=\"text-indent:1.5em\"><pre><span style=\"text-indent:1.5em; color:#512bd4\">#i</span></pre><div style=\"text-indent:3em\"><div class=\"dni-plaintext\">&lt;null&gt;</div></div></div><div style=\"text-indent:1.5em\"><pre><span style=\"text-indent:1.5em; color:#512bd4\">#r</span></pre><div style=\"text-indent:3em\"><div class=\"dni-plaintext\">&lt;null&gt;</div></div></div><div style=\"text-indent:1.5em\"><pre><span style=\"text-indent:1.5em; color:#512bd4\">#!who</span></pre><div style=\"text-indent:3em\">Display the names of the current top-level variables.</div></div><div style=\"text-indent:1.5em\"><pre><span style=\"text-indent:1.5em; color:#512bd4\">#!whos</span></pre><div style=\"text-indent:3em\">Display the names of the current top-level variables and their values.</div></div><div style=\"text-indent:1.5em\"><pre><span style=\"text-indent:1.5em; color:#512bd4\">#!share</span></pre><div style=\"text-indent:3em\">Share a .NET variable between subkernels</div></div><div style=\"text-indent:1.5em\"><pre><span style=\"text-indent:1.5em; color:#512bd4\">#!aspnet</span></pre><div style=\"text-indent:3em\">Activate ASP.NET Core</div></div><div style=\"text-indent:1.5em\"><pre><span style=\"text-indent:1.5em; color:#512bd4\">#!aspnet-stop</span></pre><div style=\"text-indent:3em\">Stop ASP.NET Core host</div></div><div style=\"text-indent:1.5em\"><pre><span style=\"text-indent:1.5em; color:#512bd4\">#!lsmagic</span></pre><div style=\"text-indent:3em\">List the available magic commands / directives</div></div></div></div>"
      ]
     },
     "metadata": {},
     "output_type": "display_data"
    },
    {
     "data": {
      "text/html": [
       "<div><h3>fsharp kernel</h3><div><div style=\"text-indent:1.5em\"><pre><span style=\"text-indent:1.5em; color:#512bd4\">#i</span></pre><div style=\"text-indent:3em\"><div class=\"dni-plaintext\">&lt;null&gt;</div></div></div><div style=\"text-indent:1.5em\"><pre><span style=\"text-indent:1.5em; color:#512bd4\">#r</span></pre><div style=\"text-indent:3em\"><div class=\"dni-plaintext\">&lt;null&gt;</div></div></div><div style=\"text-indent:1.5em\"><pre><span style=\"text-indent:1.5em; color:#512bd4\">#!who</span></pre><div style=\"text-indent:3em\">Display the names of the current top-level variables.</div></div><div style=\"text-indent:1.5em\"><pre><span style=\"text-indent:1.5em; color:#512bd4\">#!whos</span></pre><div style=\"text-indent:3em\">Display the names of the current top-level variables and their values.</div></div><div style=\"text-indent:1.5em\"><pre><span style=\"text-indent:1.5em; color:#512bd4\">#!share</span></pre><div style=\"text-indent:3em\">Share a .NET variable between subkernels</div></div><div style=\"text-indent:1.5em\"><pre><span style=\"text-indent:1.5em; color:#512bd4\">#!lsmagic</span></pre><div style=\"text-indent:3em\">List the available magic commands / directives</div></div></div></div>"
      ]
     },
     "metadata": {},
     "output_type": "display_data"
    },
    {
     "data": {
      "text/html": [
       "<div><h3>pwsh kernel</h3><div><div style=\"text-indent:1.5em\"><pre><span style=\"text-indent:1.5em; color:#512bd4\">#!share</span></pre><div style=\"text-indent:3em\">Share a .NET variable between subkernels</div></div><div style=\"text-indent:1.5em\"><pre><span style=\"text-indent:1.5em; color:#512bd4\">#!lsmagic</span></pre><div style=\"text-indent:3em\">List the available magic commands / directives</div></div></div></div>"
      ]
     },
     "metadata": {},
     "output_type": "display_data"
    },
    {
     "data": {
      "text/html": [
       "<div><h3>html kernel</h3><div><div style=\"text-indent:1.5em\"><pre><span style=\"text-indent:1.5em; color:#512bd4\">#!lsmagic</span></pre><div style=\"text-indent:3em\">List the available magic commands / directives</div></div></div></div>"
      ]
     },
     "metadata": {},
     "output_type": "display_data"
    },
    {
     "data": {
      "text/html": [
       "<div><h3>value kernel</h3><div><div style=\"text-indent:1.5em\"><pre><span style=\"text-indent:1.5em; color:#512bd4\">#!who</span></pre><div style=\"text-indent:3em\">Display the names of the current top-level variables.</div></div><div style=\"text-indent:1.5em\"><pre><span style=\"text-indent:1.5em; color:#512bd4\">#!whos</span></pre><div style=\"text-indent:3em\">Display the names of the current top-level variables and their values.</div></div><div style=\"text-indent:1.5em\"><pre><span style=\"text-indent:1.5em; color:#512bd4\">#!lsmagic</span></pre><div style=\"text-indent:3em\">List the available magic commands / directives</div></div></div></div>"
      ]
     },
     "metadata": {},
     "output_type": "display_data"
    }
   ],
   "source": [
    "#!lsmagic"
   ]
  },
  {
   "cell_type": "code",
   "execution_count": 2,
   "metadata": {},
   "outputs": [
    {
     "name": "stdout",
     "output_type": "stream",
     "text": [
      "Hello from F#\n"
     ]
    }
   ],
   "source": [
    "#!fsharp\n",
    "\n",
    "\"Hello from F#\" |> Console.WriteLine\n",
    "let x = 10\n",
    "let y = 15"
   ]
  },
  {
   "cell_type": "code",
   "execution_count": 3,
   "metadata": {},
   "outputs": [
    {
     "data": {
      "text/html": [
       "<div class=\"dni-plaintext\">10</div>"
      ]
     },
     "execution_count": 3,
     "metadata": {},
     "output_type": "execute_result"
    }
   ],
   "source": [
    "#!share --from fsharp x\n",
    "x"
   ]
  },
  {
   "cell_type": "code",
   "execution_count": 4,
   "metadata": {},
   "outputs": [
    {
     "data": {
      "text/html": [
       "<div><div></div><div></div><div><strong>Installed Packages</strong><ul><li><span>IoT.Device.Bindings, 1.5.0</span></li><li><span>System.Device.Gpio, 1.5.0</span></li><li><span>UnitsNet, 4.102.0</span></li></ul></div></div>"
      ]
     },
     "metadata": {},
     "output_type": "display_data"
    }
   ],
   "source": [
    "#r \"nuget:System.Device.Gpio,1.5.0\"\n",
    "#r \"nuget:IoT.Device.Bindings,1.5.0\"\n",
    "#r \"nuget:UnitsNet,4.102.0\""
   ]
  },
  {
   "cell_type": "markdown",
   "metadata": {},
   "source": [
    "### Display the html"
   ]
  },
  {
   "cell_type": "code",
   "execution_count": 5,
   "metadata": {},
   "outputs": [],
   "source": [
    "using static Microsoft.DotNet.Interactive.Formatting.PocketViewTags;\n",
    "using Microsoft.DotNet.Interactive.Formatting;"
   ]
  },
  {
   "cell_type": "code",
   "execution_count": 6,
   "metadata": {},
   "outputs": [
    {
     "data": {
      "text/html": [
       "<span><a href=\"https://github.com/rondagdag/dotnetcode-jupyter-talk\" target=\"blank\"><b>Presentation</b></a></span>"
      ]
     },
     "metadata": {},
     "output_type": "display_data"
    }
   ],
   "source": [
    "var pocketView = span(a[href:@\"https://github.com/rondagdag/dotnetcode-jupyter-talk\", target: \"blank\"](b(\"Presentation\")));\n",
    "display(pocketView)"
   ]
  },
  {
   "cell_type": "code",
   "execution_count": 15,
   "metadata": {},
   "outputs": [
    {
     "data": {
      "text/html": [
       "<b style=\"color:green\">100.24249725341795</b>"
      ]
     },
     "metadata": {},
     "output_type": "display_data"
    },
    {
     "name": "stderr",
     "output_type": "stream",
     "text": [
      "\n",
      "warning CS1701: Assuming assembly reference 'Microsoft.AspNetCore.Html.Abstractions, Version=2.2.0.0, Culture=neutral, PublicKeyToken=adb9793829ddae60' used by 'Microsoft.DotNet.Interactive' matches identity 'Microsoft.AspNetCore.Html.Abstractions, Version=5.0.0.0, Culture=neutral, PublicKeyToken=adb9793829ddae60' of 'Microsoft.AspNetCore.Html.Abstractions', you may need to supply runtime policy\n",
      "\n"
     ]
    }
   ],
   "source": [
    "#pragma warning disable CS1701\n",
    "\n",
    "var someHtml = HTML(\"<b style=\\\"color:blue\\\">Sensor data!</b>\");\n",
    "var tempOutput = display(someHtml);"
   ]
  },
  {
   "cell_type": "code",
   "execution_count": 16,
   "metadata": {},
   "outputs": [
    {
     "name": "stderr",
     "output_type": "stream",
     "text": [
      "\n",
      "warning CS1701: Assuming assembly reference 'Microsoft.AspNetCore.Html.Abstractions, Version=2.2.0.0, Culture=neutral, PublicKeyToken=adb9793829ddae60' used by 'Microsoft.DotNet.Interactive' matches identity 'Microsoft.AspNetCore.Html.Abstractions, Version=5.0.0.0, Culture=neutral, PublicKeyToken=adb9793829ddae60' of 'Microsoft.AspNetCore.Html.Abstractions', you may need to supply runtime policy\n",
      "\n"
     ]
    }
   ],
   "source": [
    "\n",
    "using Iot.Device.SenseHat;\n",
    "using System;\n",
    "var temperatures = new List<(int idx, double val)>();\n",
    "\n",
    "async Task readTemperature(int count = 10){   \n",
    "    using (var sh = new SenseHat())\n",
    "    {\n",
    "        var initcount = temperatures.Count;\n",
    "        for (var i = initcount; i < initcount + count; i++){        \n",
    "            temperatures.Add((i, sh.Temperature2.DegreesFahrenheit));\n",
    "            tempOutput.Update(HTML($\"<b style=\\\"color:green\\\">{sh.Temperature2.DegreesFahrenheit}</b>\"));\n",
    "            await Task.Delay(500);\n",
    "        }\n",
    "    }\n",
    "}"
   ]
  },
  {
   "cell_type": "markdown",
   "metadata": {},
   "source": [
    "### Read Temperatures"
   ]
  },
  {
   "cell_type": "code",
   "execution_count": 17,
   "metadata": {},
   "outputs": [],
   "source": [
    "await readTemperature(15);"
   ]
  },
  {
   "cell_type": "code",
   "execution_count": 12,
   "metadata": {},
   "outputs": [
    {
     "data": {
      "text/html": [
       "<div><div><strong>Restore sources</strong><ul><li><span>https://pkgs.dev.azure.com/dnceng/public/_packaging/dotnet-tools/nuget/v3/index.json</span></li><li><span>https://pkgs.dev.azure.com/dnceng/public/_packaging/dotnet5/nuget/v3/index.json</span></li></ul></div><div></div><div><strong>Installed Packages</strong><ul><li><span>XPlot.Plotly.Interactive, 4.0.2</span></li></ul></div></div>"
      ]
     },
     "metadata": {},
     "output_type": "display_data"
    },
    {
     "data": {
      "text/markdown": [
       "Loading extensions from `XPlot.Plotly.Interactive.dll`"
      ]
     },
     "metadata": {},
     "output_type": "display_data"
    },
    {
     "data": {
      "text/markdown": [
       "Configuring PowerShell Kernel for XPlot.Plotly integration."
      ]
     },
     "metadata": {},
     "output_type": "display_data"
    },
    {
     "data": {
      "text/markdown": [
       "Installed support for XPlot.Plotly."
      ]
     },
     "metadata": {},
     "output_type": "display_data"
    }
   ],
   "source": [
    "#i \"nuget:https://pkgs.dev.azure.com/dnceng/public/_packaging/dotnet5/nuget/v3/index.json\" \n",
    "#i \"nuget:https://pkgs.dev.azure.com/dnceng/public/_packaging/dotnet-tools/nuget/v3/index.json\" \n",
    "    \n",
    "#r \"nuget: XPlot.Plotly.Interactive, 4.0.2\""
   ]
  },
  {
   "cell_type": "code",
   "execution_count": 18,
   "metadata": {},
   "outputs": [
    {
     "data": {
      "text/html": [
       "<table><thead><tr><th><i>index</i></th><th>value</th></tr></thead><tbody><tr><td>0</td><td><div class=\"dni-plaintext\">100.31375045776366</div></td></tr><tr><td>1</td><td><div class=\"dni-plaintext\">100.30249633789062</div></td></tr><tr><td>2</td><td><div class=\"dni-plaintext\">100.2949981689453</div></td></tr><tr><td>3</td><td><div class=\"dni-plaintext\">100.29124908447264</div></td></tr><tr><td>4</td><td><div class=\"dni-plaintext\">100.28000183105468</div></td></tr><tr><td>5</td><td><div class=\"dni-plaintext\">100.28375091552734</div></td></tr><tr><td>6</td><td><div class=\"dni-plaintext\">100.2875</div></td></tr><tr><td>7</td><td><div class=\"dni-plaintext\">100.28000183105468</div></td></tr><tr><td>8</td><td><div class=\"dni-plaintext\">100.29124908447264</div></td></tr><tr><td>9</td><td><div class=\"dni-plaintext\">100.30625228881834</div></td></tr><tr><td>10</td><td><div class=\"dni-plaintext\">100.32875366210936</div></td></tr><tr><td>11</td><td><div class=\"dni-plaintext\">100.32124862670898</div></td></tr><tr><td>12</td><td><div class=\"dni-plaintext\">100.29874725341796</div></td></tr><tr><td>13</td><td><div class=\"dni-plaintext\">100.25750045776365</div></td></tr><tr><td>14</td><td><div class=\"dni-plaintext\">100.24249725341795</div></td></tr></tbody></table>"
      ]
     },
     "execution_count": 18,
     "metadata": {},
     "output_type": "execute_result"
    }
   ],
   "source": [
    "var values = temperatures.Select(i => i.val);\n",
    "values"
   ]
  },
  {
   "cell_type": "code",
   "execution_count": 21,
   "metadata": {},
   "outputs": [],
   "source": [
    "using XPlot.Plotly;"
   ]
  },
  {
   "cell_type": "code",
   "execution_count": 22,
   "metadata": {},
   "outputs": [],
   "source": [
    "var openSeries = new Scatter\n",
    "{\n",
    "    name = \"Open\",\n",
    "    x = temperatures.Select(i => i.idx),\n",
    "    y = values\n",
    "};\n",
    "\n",
    "\n",
    "var chart = Chart.Plot(new[] {openSeries});\n",
    "chart.WithTitle(\"Open\");"
   ]
  },
  {
   "cell_type": "markdown",
   "metadata": {},
   "source": [
    "### Display the chart"
   ]
  },
  {
   "cell_type": "code",
   "execution_count": 23,
   "metadata": {},
   "outputs": [
    {
     "data": {
      "text/html": [
       "<!DOCTYPE html>\n",
       "<div style=\"width: 900px; height: 500px;\" id=\"0e1a9fbe-b2f4-428a-b8c3-ba1875a3d0e6\"></div><script type=\"text/javascript\">\n",
       "\n",
       "var renderPlotly = function() {\n",
       "    var xplotRequire = require.config({context:'xplot-3.0.1',paths:{plotly:'https://cdn.plot.ly/plotly-1.49.2.min'}}) || require;\n",
       "    xplotRequire(['plotly'], function(Plotly) { \n",
       "\n",
       "            var data = [{\"type\":\"scatter\",\"x\":[0,1,2,3,4,5,6,7,8,9,10,11,12,13,14],\"y\":[100.31375045776366,100.30249633789062,100.2949981689453,100.29124908447264,100.28000183105468,100.28375091552734,100.2875,100.28000183105468,100.29124908447264,100.30625228881834,100.32875366210936,100.32124862670898,100.29874725341796,100.25750045776365,100.24249725341795],\"name\":\"Open\"}];\n",
       "           var layout = {\"title\":\"Open\"};\n",
       "           Plotly.newPlot('0e1a9fbe-b2f4-428a-b8c3-ba1875a3d0e6', data, layout);\n",
       "        \n",
       "});\n",
       "};\n",
       "// ensure `require` is available globally\r\n",
       "if ((typeof(require) !==  typeof(Function)) || (typeof(require.config) !== typeof(Function))) {\r\n",
       "    let require_script = document.createElement('script');\r\n",
       "    require_script.setAttribute('src', 'https://cdnjs.cloudflare.com/ajax/libs/require.js/2.3.6/require.min.js');\r\n",
       "    require_script.setAttribute('type', 'text/javascript');\r\n",
       "    \r\n",
       "    \r\n",
       "    require_script.onload = function() {\r\n",
       "        renderPlotly();\r\n",
       "    };\r\n",
       "\r\n",
       "    document.getElementsByTagName('head')[0].appendChild(require_script);\r\n",
       "}\r\n",
       "else {\r\n",
       "    renderPlotly();\r\n",
       "}\r\n",
       "\n",
       "</script>\n"
      ]
     },
     "metadata": {},
     "output_type": "display_data"
    }
   ],
   "source": [
    "display(chart)"
   ]
  },
  {
   "cell_type": "markdown",
   "metadata": {},
   "source": [
    "### Instead of adding to list, let's setup Asycnronous Streams in C#"
   ]
  },
  {
   "cell_type": "code",
   "execution_count": 24,
   "metadata": {},
   "outputs": [],
   "source": [
    "async IAsyncEnumerable<double> ReadTemperatureAsync(int count = 10){   \n",
    "    using (var sh = new SenseHat())\n",
    "    {\n",
    "        for (var i = 0; i < count; i++){\n",
    "            await Task.Delay(1000);\n",
    "            yield return (sh.Temperature2.DegreesFahrenheit);\n",
    "        }\n",
    "    };\n",
    "}"
   ]
  },
  {
   "cell_type": "code",
   "execution_count": 25,
   "metadata": {},
   "outputs": [
    {
     "data": {
      "text/html": [
       "<div><div><strong>Restore sources</strong><ul><li><span>https://pkgs.dev.azure.com/dnceng/public/_packaging/dotnet-tools/nuget/v3/index.json</span></li><li><span>https://pkgs.dev.azure.com/dnceng/public/_packaging/dotnet5/nuget/v3/index.json</span></li></ul></div><div></div><div><strong>Installed Packages</strong><ul><li><span>Microsoft.Data.Analysis, 0.18.0</span></li></ul></div></div>"
      ]
     },
     "metadata": {},
     "output_type": "display_data"
    },
    {
     "data": {
      "text/markdown": [
       "Loading extensions from `Microsoft.Data.Analysis.Interactive.dll`"
      ]
     },
     "metadata": {},
     "output_type": "display_data"
    }
   ],
   "source": [
    "#r \"nuget:Microsoft.Data.Analysis\"\n",
    "using Microsoft.Data.Analysis;"
   ]
  },
  {
   "cell_type": "code",
   "execution_count": 26,
   "metadata": {},
   "outputs": [
    {
     "data": {
      "text/plain": [
       "100.01749725341796"
      ]
     },
     "metadata": {},
     "output_type": "display_data"
    }
   ],
   "source": [
    "var output = display(\"Counting...\");\n",
    "PrimitiveDataFrameColumn<DateTime> dateTimes = new PrimitiveDataFrameColumn<DateTime>(\"DateTimes\"); // Default length is 0.\n",
    "PrimitiveDataFrameColumn<double> fahrenheit = new PrimitiveDataFrameColumn<double>(\"Fahrenheit\"); // Makes a column of length 3. Filled with nulls initially\n",
    "\n",
    "await foreach (var result in ReadTemperatureAsync(15))\n",
    "{\n",
    "   output.Update(result);\n",
    "   dateTimes.Append(DateTime.Now);\n",
    "   fahrenheit.Append(result);\n",
    "}"
   ]
  },
  {
   "cell_type": "markdown",
   "metadata": {},
   "source": [
    "### create a new Dataframe with 2 columns"
   ]
  },
  {
   "cell_type": "code",
   "execution_count": 27,
   "metadata": {},
   "outputs": [],
   "source": [
    "DataFrame df =  new DataFrame(dateTimes, fahrenheit);"
   ]
  },
  {
   "cell_type": "code",
   "execution_count": 28,
   "metadata": {},
   "outputs": [
    {
     "data": {
      "text/html": [
       "<table id=\"table_637707855428819680\"><thead><tr><th><i>index</i></th><th>DateTimes</th><th>Fahrenheit</th></tr></thead><tbody><tr><td><i><div class=\"dni-plaintext\">0</div></i></td><td><span>2021-10-25 19:05:28Z</span></td><td><div class=\"dni-plaintext\">100.16000366210936</div></td></tr><tr><td><i><div class=\"dni-plaintext\">1</div></i></td><td><span>2021-10-25 19:05:29Z</span></td><td><div class=\"dni-plaintext\">100.15624771118163</div></td></tr><tr><td><i><div class=\"dni-plaintext\">2</div></i></td><td><span>2021-10-25 19:05:30Z</span></td><td><div class=\"dni-plaintext\">100.15249862670898</div></td></tr><tr><td><i><div class=\"dni-plaintext\">3</div></i></td><td><span>2021-10-25 19:05:31Z</span></td><td><div class=\"dni-plaintext\">100.11874999999999</div></td></tr><tr><td><i><div class=\"dni-plaintext\">4</div></i></td><td><span>2021-10-25 19:05:32Z</span></td><td><div class=\"dni-plaintext\">100.11500091552733</div></td></tr><tr><td><i><div class=\"dni-plaintext\">5</div></i></td><td><span>2021-10-25 19:05:33Z</span></td><td><div class=\"dni-plaintext\">100.11874999999999</div></td></tr><tr><td><i><div class=\"dni-plaintext\">6</div></i></td><td><span>2021-10-25 19:05:34Z</span></td><td><div class=\"dni-plaintext\">100.09999771118163</div></td></tr><tr><td><i><div class=\"dni-plaintext\">7</div></i></td><td><span>2021-10-25 19:05:35Z</span></td><td><div class=\"dni-plaintext\">100.08875045776367</div></td></tr><tr><td><i><div class=\"dni-plaintext\">8</div></i></td><td><span>2021-10-25 19:05:36Z</span></td><td><div class=\"dni-plaintext\">100.09999771118163</div></td></tr><tr><td><i><div class=\"dni-plaintext\">9</div></i></td><td><span>2021-10-25 19:05:37Z</span></td><td><div class=\"dni-plaintext\">100.11874999999999</div></td></tr><tr><td><i><div class=\"dni-plaintext\">10</div></i></td><td><span>2021-10-25 19:05:38Z</span></td><td><div class=\"dni-plaintext\">100.14874954223632</div></td></tr><tr><td><i><div class=\"dni-plaintext\">11</div></i></td><td><span>2021-10-25 19:05:39Z</span></td><td><div class=\"dni-plaintext\">100.13750228881835</div></td></tr><tr><td><i><div class=\"dni-plaintext\">12</div></i></td><td><span>2021-10-25 19:05:40Z</span></td><td><div class=\"dni-plaintext\">100.07749633789061</div></td></tr><tr><td><i><div class=\"dni-plaintext\">13</div></i></td><td><span>2021-10-25 19:05:41Z</span></td><td><div class=\"dni-plaintext\">100.04750366210936</div></td></tr><tr><td><i><div class=\"dni-plaintext\">14</div></i></td><td><span>2021-10-25 19:05:42Z</span></td><td><div class=\"dni-plaintext\">100.01749725341796</div></td></tr></tbody></table>"
      ]
     },
     "execution_count": 28,
     "metadata": {},
     "output_type": "execute_result"
    }
   ],
   "source": [
    "df"
   ]
  },
  {
   "cell_type": "code",
   "execution_count": 32,
   "metadata": {},
   "outputs": [],
   "source": [
    "using static Microsoft.DotNet.Interactive.Formatting.PocketViewTags;\n",
    "\n",
    "Formatter.Register<DataFrame>((person, writer) => {\n",
    "   writer.Write(\"DataFrame\");\n",
    "}, mimeType: \"text/plain\");\n"
   ]
  },
  {
   "cell_type": "code",
   "execution_count": 33,
   "metadata": {},
   "outputs": [
    {
     "data": {
      "text/html": [
       "<table id=\"table_637707857059898423\"><thead><tr><th><i>index</i></th><th>DateTimes</th><th>Fahrenheit</th></tr></thead><tbody><tr><td><i><div class=\"dni-plaintext\">0</div></i></td><td><span>2021-10-25 19:05:28Z</span></td><td><div class=\"dni-plaintext\">100.16000366210936</div></td></tr><tr><td><i><div class=\"dni-plaintext\">1</div></i></td><td><span>2021-10-25 19:05:29Z</span></td><td><div class=\"dni-plaintext\">100.15624771118163</div></td></tr><tr><td><i><div class=\"dni-plaintext\">2</div></i></td><td><span>2021-10-25 19:05:30Z</span></td><td><div class=\"dni-plaintext\">100.15249862670898</div></td></tr><tr><td><i><div class=\"dni-plaintext\">3</div></i></td><td><span>2021-10-25 19:05:31Z</span></td><td><div class=\"dni-plaintext\">100.11874999999999</div></td></tr><tr><td><i><div class=\"dni-plaintext\">4</div></i></td><td><span>2021-10-25 19:05:32Z</span></td><td><div class=\"dni-plaintext\">100.11500091552733</div></td></tr><tr><td><i><div class=\"dni-plaintext\">5</div></i></td><td><span>2021-10-25 19:05:33Z</span></td><td><div class=\"dni-plaintext\">100.11874999999999</div></td></tr><tr><td><i><div class=\"dni-plaintext\">6</div></i></td><td><span>2021-10-25 19:05:34Z</span></td><td><div class=\"dni-plaintext\">100.09999771118163</div></td></tr><tr><td><i><div class=\"dni-plaintext\">7</div></i></td><td><span>2021-10-25 19:05:35Z</span></td><td><div class=\"dni-plaintext\">100.08875045776367</div></td></tr><tr><td><i><div class=\"dni-plaintext\">8</div></i></td><td><span>2021-10-25 19:05:36Z</span></td><td><div class=\"dni-plaintext\">100.09999771118163</div></td></tr><tr><td><i><div class=\"dni-plaintext\">9</div></i></td><td><span>2021-10-25 19:05:37Z</span></td><td><div class=\"dni-plaintext\">100.11874999999999</div></td></tr><tr><td><i><div class=\"dni-plaintext\">10</div></i></td><td><span>2021-10-25 19:05:38Z</span></td><td><div class=\"dni-plaintext\">100.14874954223632</div></td></tr><tr><td><i><div class=\"dni-plaintext\">11</div></i></td><td><span>2021-10-25 19:05:39Z</span></td><td><div class=\"dni-plaintext\">100.13750228881835</div></td></tr><tr><td><i><div class=\"dni-plaintext\">12</div></i></td><td><span>2021-10-25 19:05:40Z</span></td><td><div class=\"dni-plaintext\">100.07749633789061</div></td></tr><tr><td><i><div class=\"dni-plaintext\">13</div></i></td><td><span>2021-10-25 19:05:41Z</span></td><td><div class=\"dni-plaintext\">100.04750366210936</div></td></tr><tr><td><i><div class=\"dni-plaintext\">14</div></i></td><td><span>2021-10-25 19:05:42Z</span></td><td><div class=\"dni-plaintext\">100.01749725341796</div></td></tr></tbody></table>"
      ]
     },
     "execution_count": 33,
     "metadata": {},
     "output_type": "execute_result"
    }
   ],
   "source": [
    "df"
   ]
  },
  {
   "cell_type": "code",
   "execution_count": 34,
   "metadata": {},
   "outputs": [
    {
     "data": {
      "text/html": [
       "<table><thead><tr><th><i>index</i></th><th>value</th></tr></thead><tbody><tr><td>0</td><td><div class=\"dni-plaintext\">[ 2021-10-25 19:05:28Z, 100.16000366210936 ]</div></td></tr><tr><td>1</td><td><div class=\"dni-plaintext\">[ 2021-10-25 19:05:29Z, 100.15624771118163 ]</div></td></tr></tbody></table>"
      ]
     },
     "execution_count": 34,
     "metadata": {},
     "output_type": "execute_result"
    }
   ],
   "source": [
    "var a = df.Rows.Take(2);\n",
    "a"
   ]
  },
  {
   "cell_type": "markdown",
   "metadata": {},
   "source": [
    "### Count the number of rows"
   ]
  },
  {
   "cell_type": "code",
   "execution_count": 35,
   "metadata": {},
   "outputs": [
    {
     "data": {
      "text/html": [
       "<div class=\"dni-plaintext\">15</div>"
      ]
     },
     "execution_count": 35,
     "metadata": {},
     "output_type": "execute_result"
    }
   ],
   "source": [
    "var total = df.Rows.Count();\n",
    "total"
   ]
  },
  {
   "cell_type": "code",
   "execution_count": 36,
   "metadata": {},
   "outputs": [
    {
     "data": {
      "text/html": [
       "<table id=\"table_637707857130970529\"><thead><tr><th><i>index</i></th><th>DateTimes</th><th>Fahrenheit</th><th>Celcius</th></tr></thead><tbody><tr><td><i><div class=\"dni-plaintext\">0</div></i></td><td><span>2021-10-25 19:05:28Z</span></td><td><div class=\"dni-plaintext\">100.16000366210936</div></td><td><div class=\"dni-plaintext\">&lt;null&gt;</div></td></tr><tr><td><i><div class=\"dni-plaintext\">1</div></i></td><td><span>2021-10-25 19:05:29Z</span></td><td><div class=\"dni-plaintext\">100.15624771118163</div></td><td><div class=\"dni-plaintext\">&lt;null&gt;</div></td></tr><tr><td><i><div class=\"dni-plaintext\">2</div></i></td><td><span>2021-10-25 19:05:30Z</span></td><td><div class=\"dni-plaintext\">100.15249862670898</div></td><td><div class=\"dni-plaintext\">&lt;null&gt;</div></td></tr><tr><td><i><div class=\"dni-plaintext\">3</div></i></td><td><span>2021-10-25 19:05:31Z</span></td><td><div class=\"dni-plaintext\">100.11874999999999</div></td><td><div class=\"dni-plaintext\">&lt;null&gt;</div></td></tr><tr><td><i><div class=\"dni-plaintext\">4</div></i></td><td><span>2021-10-25 19:05:32Z</span></td><td><div class=\"dni-plaintext\">100.11500091552733</div></td><td><div class=\"dni-plaintext\">&lt;null&gt;</div></td></tr><tr><td><i><div class=\"dni-plaintext\">5</div></i></td><td><span>2021-10-25 19:05:33Z</span></td><td><div class=\"dni-plaintext\">100.11874999999999</div></td><td><div class=\"dni-plaintext\">&lt;null&gt;</div></td></tr><tr><td><i><div class=\"dni-plaintext\">6</div></i></td><td><span>2021-10-25 19:05:34Z</span></td><td><div class=\"dni-plaintext\">100.09999771118163</div></td><td><div class=\"dni-plaintext\">&lt;null&gt;</div></td></tr><tr><td><i><div class=\"dni-plaintext\">7</div></i></td><td><span>2021-10-25 19:05:35Z</span></td><td><div class=\"dni-plaintext\">100.08875045776367</div></td><td><div class=\"dni-plaintext\">&lt;null&gt;</div></td></tr><tr><td><i><div class=\"dni-plaintext\">8</div></i></td><td><span>2021-10-25 19:05:36Z</span></td><td><div class=\"dni-plaintext\">100.09999771118163</div></td><td><div class=\"dni-plaintext\">&lt;null&gt;</div></td></tr><tr><td><i><div class=\"dni-plaintext\">9</div></i></td><td><span>2021-10-25 19:05:37Z</span></td><td><div class=\"dni-plaintext\">100.11874999999999</div></td><td><div class=\"dni-plaintext\">&lt;null&gt;</div></td></tr><tr><td><i><div class=\"dni-plaintext\">10</div></i></td><td><span>2021-10-25 19:05:38Z</span></td><td><div class=\"dni-plaintext\">100.14874954223632</div></td><td><div class=\"dni-plaintext\">&lt;null&gt;</div></td></tr><tr><td><i><div class=\"dni-plaintext\">11</div></i></td><td><span>2021-10-25 19:05:39Z</span></td><td><div class=\"dni-plaintext\">100.13750228881835</div></td><td><div class=\"dni-plaintext\">&lt;null&gt;</div></td></tr><tr><td><i><div class=\"dni-plaintext\">12</div></i></td><td><span>2021-10-25 19:05:40Z</span></td><td><div class=\"dni-plaintext\">100.07749633789061</div></td><td><div class=\"dni-plaintext\">&lt;null&gt;</div></td></tr><tr><td><i><div class=\"dni-plaintext\">13</div></i></td><td><span>2021-10-25 19:05:41Z</span></td><td><div class=\"dni-plaintext\">100.04750366210936</div></td><td><div class=\"dni-plaintext\">&lt;null&gt;</div></td></tr><tr><td><i><div class=\"dni-plaintext\">14</div></i></td><td><span>2021-10-25 19:05:42Z</span></td><td><div class=\"dni-plaintext\">100.01749725341796</div></td><td><div class=\"dni-plaintext\">&lt;null&gt;</div></td></tr></tbody></table>"
      ]
     },
     "execution_count": 36,
     "metadata": {},
     "output_type": "execute_result"
    }
   ],
   "source": [
    "PrimitiveDataFrameColumn<double> celcius = new PrimitiveDataFrameColumn<double>(\"Celcius\", total);\n",
    "var newDf = df.Clone();\n",
    "newDf.Columns.Insert(2, celcius);\n",
    "newDf"
   ]
  },
  {
   "cell_type": "code",
   "execution_count": 37,
   "metadata": {},
   "outputs": [
    {
     "data": {
      "text/html": [
       "<table id=\"table_637707857148648454\"><thead><tr><th><i>index</i></th><th>Info</th><th>DateTimes</th><th>Fahrenheit</th><th>Celcius</th></tr></thead><tbody><tr><td><i><div class=\"dni-plaintext\">0</div></i></td><td>DataType</td><td>System.DateTime</td><td>System.Double</td><td>System.Double</td></tr><tr><td><i><div class=\"dni-plaintext\">1</div></i></td><td>Length (excluding null values)</td><td>15</td><td>15</td><td>0</td></tr></tbody></table>"
      ]
     },
     "execution_count": 37,
     "metadata": {},
     "output_type": "execute_result"
    }
   ],
   "source": [
    "var info = newDf.Info();\n",
    "info"
   ]
  },
  {
   "cell_type": "code",
   "execution_count": 38,
   "metadata": {},
   "outputs": [
    {
     "data": {
      "text/html": [
       "<table id=\"table_637707857153732636\"><thead><tr><th><i>index</i></th><th>DateTimes</th><th>Fahrenheit</th><th>Celcius</th></tr></thead><tbody><tr><td><i><div class=\"dni-plaintext\">0</div></i></td><td><span>2021-10-25 19:05:28Z</span></td><td><div class=\"dni-plaintext\">100.16000366210936</div></td><td><div class=\"dni-plaintext\">0</div></td></tr><tr><td><i><div class=\"dni-plaintext\">1</div></i></td><td><span>2021-10-25 19:05:29Z</span></td><td><div class=\"dni-plaintext\">100.15624771118163</div></td><td><div class=\"dni-plaintext\">0</div></td></tr><tr><td><i><div class=\"dni-plaintext\">2</div></i></td><td><span>2021-10-25 19:05:30Z</span></td><td><div class=\"dni-plaintext\">100.15249862670898</div></td><td><div class=\"dni-plaintext\">0</div></td></tr><tr><td><i><div class=\"dni-plaintext\">3</div></i></td><td><span>2021-10-25 19:05:31Z</span></td><td><div class=\"dni-plaintext\">100.11874999999999</div></td><td><div class=\"dni-plaintext\">0</div></td></tr><tr><td><i><div class=\"dni-plaintext\">4</div></i></td><td><span>2021-10-25 19:05:32Z</span></td><td><div class=\"dni-plaintext\">100.11500091552733</div></td><td><div class=\"dni-plaintext\">0</div></td></tr><tr><td><i><div class=\"dni-plaintext\">5</div></i></td><td><span>2021-10-25 19:05:33Z</span></td><td><div class=\"dni-plaintext\">100.11874999999999</div></td><td><div class=\"dni-plaintext\">0</div></td></tr><tr><td><i><div class=\"dni-plaintext\">6</div></i></td><td><span>2021-10-25 19:05:34Z</span></td><td><div class=\"dni-plaintext\">100.09999771118163</div></td><td><div class=\"dni-plaintext\">0</div></td></tr><tr><td><i><div class=\"dni-plaintext\">7</div></i></td><td><span>2021-10-25 19:05:35Z</span></td><td><div class=\"dni-plaintext\">100.08875045776367</div></td><td><div class=\"dni-plaintext\">0</div></td></tr><tr><td><i><div class=\"dni-plaintext\">8</div></i></td><td><span>2021-10-25 19:05:36Z</span></td><td><div class=\"dni-plaintext\">100.09999771118163</div></td><td><div class=\"dni-plaintext\">0</div></td></tr><tr><td><i><div class=\"dni-plaintext\">9</div></i></td><td><span>2021-10-25 19:05:37Z</span></td><td><div class=\"dni-plaintext\">100.11874999999999</div></td><td><div class=\"dni-plaintext\">0</div></td></tr><tr><td><i><div class=\"dni-plaintext\">10</div></i></td><td><span>2021-10-25 19:05:38Z</span></td><td><div class=\"dni-plaintext\">100.14874954223632</div></td><td><div class=\"dni-plaintext\">0</div></td></tr><tr><td><i><div class=\"dni-plaintext\">11</div></i></td><td><span>2021-10-25 19:05:39Z</span></td><td><div class=\"dni-plaintext\">100.13750228881835</div></td><td><div class=\"dni-plaintext\">0</div></td></tr><tr><td><i><div class=\"dni-plaintext\">12</div></i></td><td><span>2021-10-25 19:05:40Z</span></td><td><div class=\"dni-plaintext\">100.07749633789061</div></td><td><div class=\"dni-plaintext\">0</div></td></tr><tr><td><i><div class=\"dni-plaintext\">13</div></i></td><td><span>2021-10-25 19:05:41Z</span></td><td><div class=\"dni-plaintext\">100.04750366210936</div></td><td><div class=\"dni-plaintext\">0</div></td></tr><tr><td><i><div class=\"dni-plaintext\">14</div></i></td><td><span>2021-10-25 19:05:42Z</span></td><td><div class=\"dni-plaintext\">100.01749725341796</div></td><td><div class=\"dni-plaintext\">0</div></td></tr></tbody></table>"
      ]
     },
     "execution_count": 38,
     "metadata": {},
     "output_type": "execute_result"
    }
   ],
   "source": [
    "celcius.FillNulls(0, inPlace: true);\n",
    "newDf"
   ]
  },
  {
   "cell_type": "code",
   "execution_count": 39,
   "metadata": {},
   "outputs": [
    {
     "data": {
      "text/html": [
       "<table><thead><tr><th><i>index</i></th><th><i>type</i></th><th>value</th></tr></thead><tbody><tr><td>0</td><td><span><a href=\"https://docs.microsoft.com/dotnet/api/system.datetime?view=net-5.0\">System.DateTime</a></span></td><td><span>2021-10-25 19:05:28Z</span></td></tr><tr><td>1</td><td><span><a href=\"https://docs.microsoft.com/dotnet/api/system.double?view=net-5.0\">System.Double</a></span></td><td><div class=\"dni-plaintext\">100.16000366210936</div></td></tr><tr><td>2</td><td><span><a href=\"https://docs.microsoft.com/dotnet/api/system.double?view=net-5.0\">System.Double</a></span></td><td><div class=\"dni-plaintext\">0</div></td></tr></tbody></table>"
      ]
     },
     "execution_count": 39,
     "metadata": {},
     "output_type": "execute_result"
    }
   ],
   "source": [
    "DataFrameRow row0 = newDf.Rows[0];\n",
    "row0"
   ]
  },
  {
   "cell_type": "markdown",
   "metadata": {},
   "source": [
    "### Convert Fahrenheit and fill the Celcius"
   ]
  },
  {
   "cell_type": "code",
   "execution_count": 40,
   "metadata": {},
   "outputs": [
    {
     "data": {
      "text/html": [
       "<table id=\"table_637707857187273940\"><thead><tr><th><i>index</i></th><th>DateTimes</th><th>Fahrenheit</th><th>Celcius</th></tr></thead><tbody><tr><td><i><div class=\"dni-plaintext\">0</div></i></td><td><span>2021-10-25 19:05:28Z</span></td><td><div class=\"dni-plaintext\">100.16000366210936</div></td><td><div class=\"dni-plaintext\">37.86666870117187</div></td></tr><tr><td><i><div class=\"dni-plaintext\">1</div></i></td><td><span>2021-10-25 19:05:29Z</span></td><td><div class=\"dni-plaintext\">100.15624771118163</div></td><td><div class=\"dni-plaintext\">37.86458206176758</div></td></tr><tr><td><i><div class=\"dni-plaintext\">2</div></i></td><td><span>2021-10-25 19:05:30Z</span></td><td><div class=\"dni-plaintext\">100.15249862670898</div></td><td><div class=\"dni-plaintext\">37.86249923706054</div></td></tr><tr><td><i><div class=\"dni-plaintext\">3</div></i></td><td><span>2021-10-25 19:05:31Z</span></td><td><div class=\"dni-plaintext\">100.11874999999999</div></td><td><div class=\"dni-plaintext\">37.84374999999999</div></td></tr><tr><td><i><div class=\"dni-plaintext\">4</div></i></td><td><span>2021-10-25 19:05:32Z</span></td><td><div class=\"dni-plaintext\">100.11500091552733</div></td><td><div class=\"dni-plaintext\">37.84166717529296</div></td></tr><tr><td><i><div class=\"dni-plaintext\">5</div></i></td><td><span>2021-10-25 19:05:33Z</span></td><td><div class=\"dni-plaintext\">100.11874999999999</div></td><td><div class=\"dni-plaintext\">37.84374999999999</div></td></tr><tr><td><i><div class=\"dni-plaintext\">6</div></i></td><td><span>2021-10-25 19:05:34Z</span></td><td><div class=\"dni-plaintext\">100.09999771118163</div></td><td><div class=\"dni-plaintext\">37.83333206176757</div></td></tr><tr><td><i><div class=\"dni-plaintext\">7</div></i></td><td><span>2021-10-25 19:05:35Z</span></td><td><div class=\"dni-plaintext\">100.08875045776367</div></td><td><div class=\"dni-plaintext\">37.827083587646484</div></td></tr><tr><td><i><div class=\"dni-plaintext\">8</div></i></td><td><span>2021-10-25 19:05:36Z</span></td><td><div class=\"dni-plaintext\">100.09999771118163</div></td><td><div class=\"dni-plaintext\">37.83333206176757</div></td></tr><tr><td><i><div class=\"dni-plaintext\">9</div></i></td><td><span>2021-10-25 19:05:37Z</span></td><td><div class=\"dni-plaintext\">100.11874999999999</div></td><td><div class=\"dni-plaintext\">37.84374999999999</div></td></tr><tr><td><i><div class=\"dni-plaintext\">10</div></i></td><td><span>2021-10-25 19:05:38Z</span></td><td><div class=\"dni-plaintext\">100.14874954223632</div></td><td><div class=\"dni-plaintext\">37.86041641235351</div></td></tr><tr><td><i><div class=\"dni-plaintext\">11</div></i></td><td><span>2021-10-25 19:05:39Z</span></td><td><div class=\"dni-plaintext\">100.13750228881835</div></td><td><div class=\"dni-plaintext\">37.85416793823242</div></td></tr><tr><td><i><div class=\"dni-plaintext\">12</div></i></td><td><span>2021-10-25 19:05:40Z</span></td><td><div class=\"dni-plaintext\">100.07749633789061</div></td><td><div class=\"dni-plaintext\">37.82083129882811</div></td></tr><tr><td><i><div class=\"dni-plaintext\">13</div></i></td><td><span>2021-10-25 19:05:41Z</span></td><td><div class=\"dni-plaintext\">100.04750366210936</div></td><td><div class=\"dni-plaintext\">37.80416870117187</div></td></tr><tr><td><i><div class=\"dni-plaintext\">14</div></i></td><td><span>2021-10-25 19:05:42Z</span></td><td><div class=\"dni-plaintext\">100.01749725341796</div></td><td><div class=\"dni-plaintext\">37.78749847412109</div></td></tr></tbody></table>"
      ]
     },
     "execution_count": 40,
     "metadata": {},
     "output_type": "execute_result"
    }
   ],
   "source": [
    "newDf.Columns[\"Celcius\"] = (fahrenheit - 32) * 5/9;\n",
    "newDf"
   ]
  },
  {
   "cell_type": "code",
   "execution_count": 41,
   "metadata": {},
   "outputs": [
    {
     "data": {
      "text/html": [
       "<div class=\"dni-plaintext\">37.83916651407878</div>"
      ]
     },
     "execution_count": 41,
     "metadata": {},
     "output_type": "execute_result"
    }
   ],
   "source": [
    "var celciusMean = newDf.Columns[\"Celcius\"].Mean();\n",
    "celciusMean"
   ]
  },
  {
   "cell_type": "code",
   "execution_count": 43,
   "metadata": {},
   "outputs": [
    {
     "data": {
      "text/html": [
       "<!DOCTYPE html>\n",
       "<div style=\"width: 900px; height: 500px;\" id=\"a003893f-a3a2-4f0d-8143-c4483cf596e7\"></div><script type=\"text/javascript\">\n",
       "\n",
       "var renderPlotly = function() {\n",
       "    var xplotRequire = require.config({context:'xplot-3.0.1',paths:{plotly:'https://cdn.plot.ly/plotly-1.49.2.min'}}) || require;\n",
       "    xplotRequire(['plotly'], function(Plotly) { \n",
       "\n",
       "            var data = [{\"type\":\"scatter\",\"x\":[\"2021-10-25T19:05:28.481013-05:00\",\"2021-10-25T19:05:29.5329932-05:00\",\"2021-10-25T19:05:30.542124-05:00\",\"2021-10-25T19:05:31.5465452-05:00\",\"2021-10-25T19:05:32.5489971-05:00\",\"2021-10-25T19:05:33.5547305-05:00\",\"2021-10-25T19:05:34.5588671-05:00\",\"2021-10-25T19:05:35.5628083-05:00\",\"2021-10-25T19:05:36.5685872-05:00\",\"2021-10-25T19:05:37.5677099-05:00\",\"2021-10-25T19:05:38.5719689-05:00\",\"2021-10-25T19:05:39.5679824-05:00\",\"2021-10-25T19:05:40.5692823-05:00\",\"2021-10-25T19:05:41.5688881-05:00\",\"2021-10-25T19:05:42.5696245-05:00\"],\"y\":[37.86666870117187,37.86458206176758,37.86249923706054,37.84374999999999,37.84166717529296,37.84374999999999,37.83333206176757,37.827083587646484,37.83333206176757,37.84374999999999,37.86041641235351,37.85416793823242,37.82083129882811,37.80416870117187,37.78749847412109]}];\n",
       "           var layout = \"\";\n",
       "           Plotly.newPlot('a003893f-a3a2-4f0d-8143-c4483cf596e7', data, layout);\n",
       "        \n",
       "});\n",
       "};\n",
       "// ensure `require` is available globally\r\n",
       "if ((typeof(require) !==  typeof(Function)) || (typeof(require.config) !== typeof(Function))) {\r\n",
       "    let require_script = document.createElement('script');\r\n",
       "    require_script.setAttribute('src', 'https://cdnjs.cloudflare.com/ajax/libs/require.js/2.3.6/require.min.js');\r\n",
       "    require_script.setAttribute('type', 'text/javascript');\r\n",
       "    \r\n",
       "    \r\n",
       "    require_script.onload = function() {\r\n",
       "        renderPlotly();\r\n",
       "    };\r\n",
       "\r\n",
       "    document.getElementsByTagName('head')[0].appendChild(require_script);\r\n",
       "}\r\n",
       "else {\r\n",
       "    renderPlotly();\r\n",
       "}\r\n",
       "\n",
       "</script>\n"
      ]
     },
     "execution_count": 43,
     "metadata": {},
     "output_type": "execute_result"
    }
   ],
   "source": [
    "Chart.Plot(\n",
    "    new Scatter()\n",
    "    {\n",
    "        x = newDf.Columns[\"DateTimes\"],\n",
    "        y = newDf.Columns[\"Celcius\"]\n",
    "    }\n",
    ")"
   ]
  },
  {
   "cell_type": "code",
   "execution_count": 44,
   "metadata": {},
   "outputs": [],
   "source": [
    "var tempData = new List<double>();\n",
    "\n",
    "async Task readTempData(int count = 10){   \n",
    "    using (var sh = new SenseHat())\n",
    "    {\n",
    "        for (var i = 0; i < count; i++){        \n",
    "            if(tempData.Count > 10){\n",
    "                tempData.RemoveAt(0);\n",
    "            }\n",
    "            tempData.Add(sh.Temperature2.DegreesFahrenheit);\n",
    "            Console.WriteLine(sh.Temperature2.DegreesFahrenheit);\n",
    "            await Task.Delay(500);\n",
    "        }\n",
    "    }\n",
    "}"
   ]
  },
  {
   "cell_type": "code",
   "execution_count": 45,
   "metadata": {},
   "outputs": [
    {
     "data": {
      "text/html": [
       "<script type=\"text/javascript\">\n",
       "if (typeof window.createDotnetInteractiveClient === typeof Function) {\n",
       "    window.createDotnetInteractiveClient('http://192.168.1.76:1024/').then(async function (interactive) {\n",
       "        const console = interactive.getConsole('5859f7f5687f48e19221ed93e02b2f9b');\n",
       "        const notebookScope = getDotnetInteractiveScope('http://192.168.1.76:1024/');\n",
       "        try {\n",
       "\n",
       "await Object.getPrototypeOf(async function() {}).constructor(\n",
       "    \"interactive\",\n",
       "    \"console\",\n",
       "    \"notebookScope\",\n",
       "    \"\\n\\nif (typeof (notebookScope.interval) !== \\u0027undefined\\u0027) {\\n    clearInterval(notebookScope.interval);\\n}\\n\\nnotebookScope.plot = (sgvSelector, variableName) =\\u003e {   \\n    let dtree_require = require.config({\\n        paths: {\\n            d3: \\\"https://d3js.org/d3.v5.min\\\"\\n        }\\n    });\\n    dtree_require([\\\"d3\\\"], function (d3) {       \\n        let svg = d3.select(sgvSelector);\\n        svg.selectAll(\\\"defs\\\").remove();\\n        svg.selectAll(\\\"g\\\").remove();\\n        \\n        var margin = {top: 0, right: 30, bottom: 30, left: 40},\\n            width = 260 - margin.left - margin.right,\\n            height = 200 - margin.top - margin.bottom;\\n        \\n        let container = d3\\n            .select(sgvSelector);\\n        \\n         var width = 260 \\n            scaleFactor = 20, \\n            barHeight = 30;\\n         \\n         var graph = d3.select(\\\"body\\\")\\n            .append(\\\"svg\\\")\\n                .attr(\\\"width\\\", width + margin.left + margin.right)\\n                .attr(\\\"height\\\", height + margin.top + margin.bottom)\\n            .append(\\\"g\\\")\\n                .attr(\\\"transform\\\",\\n                      \\\"translate(\\\" + margin.left + \\\",\\\" + margin.top + \\\")\\\");\\n        \\n        // Add X axis\\n          var x = d3.scaleLinear()\\n            .domain([0, 10])\\n            .range([ width, 0 ]);\\n        \\n          svg.append(\\\"g\\\")\\n            .attr(\\\"transform\\\", \\\"translate(\\\" + margin.left + \\\",\\\" + height + \\\")\\\")\\n            .call(d3.axisBottom(x));\\n\\n      // Add Y axis\\n          var y = d3.scaleLinear()\\n            .domain([99, 101])\\n            .range([ height, 0]);\\n        \\n          svg.append(\\\"g\\\")\\n            .attr(\\\"transform\\\", \\\"translate(\\\" + margin.left + \\\", 0)\\\")\\n            .call(d3.axisLeft(y));\\n\\n        updateD3Rendering = () =\\u003e interactive.csharp.getVariable(variableName)\\n            .then(data =\\u003e {\\n                console.log(data);\\n                container\\n                    .selectAll(\\\".points\\\")\\n                    .data(data, (d, i) =\\u003e i)\\n                    .join(\\n                        enter =\\u003e enter.append(\\\"circle\\\")\\n                            .attr(\\\"cx\\\", (d, i) =\\u003e { console.log(\\\"i:\\\" + i); return margin.left + x(i); } )\\n                            .attr(\\\"cy\\\", function (d) { console.log(\\\"d:\\\" + d); return y(d); } )\\n                            .attr(\\\"r\\\", 2.5)\\n                            .style(\\\"fill\\\", \\\"#69b3a2\\\")\\n                            .transition()\\n                            .duration(2000)                            \\n                            .attr(\\\"r\\\", 0 ).remove(),\\n                        update =\\u003e update\\n                            .transition()\\n                             .attr(\\\"class\\\", \\\"line\\\")\\n                             .attr(\\\"d\\\", valueline)\\n                            );\\n            });\\n        notebookScope.interval = setInterval(() =\\u003e updateD3Rendering(), 1000);\\n    });\\n}\"\n",
       ")(\n",
       "    interactive,\n",
       "    console,\n",
       "    notebookScope\n",
       ");\n",
       "\n",
       "        } catch (err) {\n",
       "            interactive.failCommand(err, '5859f7f5687f48e19221ed93e02b2f9b');\n",
       "        } finally {\n",
       "            await interactive.waitForAllEventsToPublish('5859f7f5687f48e19221ed93e02b2f9b');\n",
       "            await interactive.markExecutionComplete('5859f7f5687f48e19221ed93e02b2f9b');\n",
       "        }\n",
       "    });\n",
       "}\n",
       "</script>"
      ]
     },
     "metadata": {},
     "output_type": "display_data"
    }
   ],
   "source": [
    "#!js \n",
    "\n",
    "if (typeof (notebookScope.interval) !== 'undefined') {\n",
    "    clearInterval(notebookScope.interval);\n",
    "}\n",
    "\n",
    "notebookScope.plot = (sgvSelector, variableName) => {   \n",
    "    let dtree_require = require.config({\n",
    "        paths: {\n",
    "            d3: \"https://d3js.org/d3.v5.min\"\n",
    "        }\n",
    "    });\n",
    "    dtree_require([\"d3\"], function (d3) {       \n",
    "        let svg = d3.select(sgvSelector);\n",
    "        svg.selectAll(\"defs\").remove();\n",
    "        svg.selectAll(\"g\").remove();\n",
    "        \n",
    "        var margin = {top: 0, right: 30, bottom: 30, left: 40},\n",
    "            width = 260 - margin.left - margin.right,\n",
    "            height = 200 - margin.top - margin.bottom;\n",
    "        \n",
    "        let container = d3\n",
    "            .select(sgvSelector);\n",
    "        \n",
    "         var width = 260 \n",
    "            scaleFactor = 20, \n",
    "            barHeight = 30;\n",
    "         \n",
    "         var graph = d3.select(\"body\")\n",
    "            .append(\"svg\")\n",
    "                .attr(\"width\", width + margin.left + margin.right)\n",
    "                .attr(\"height\", height + margin.top + margin.bottom)\n",
    "            .append(\"g\")\n",
    "                .attr(\"transform\",\n",
    "                      \"translate(\" + margin.left + \",\" + margin.top + \")\");\n",
    "        \n",
    "        // Add X axis\n",
    "          var x = d3.scaleLinear()\n",
    "            .domain([0, 10])\n",
    "            .range([ width, 0 ]);\n",
    "        \n",
    "          svg.append(\"g\")\n",
    "            .attr(\"transform\", \"translate(\" + margin.left + \",\" + height + \")\")\n",
    "            .call(d3.axisBottom(x));\n",
    "\n",
    "      // Add Y axis\n",
    "          var y = d3.scaleLinear()\n",
    "            .domain([99, 101])\n",
    "            .range([ height, 0]);\n",
    "        \n",
    "          svg.append(\"g\")\n",
    "            .attr(\"transform\", \"translate(\" + margin.left + \", 0)\")\n",
    "            .call(d3.axisLeft(y));\n",
    "\n",
    "        updateD3Rendering = () => interactive.csharp.getVariable(variableName)\n",
    "            .then(data => {\n",
    "                console.log(data);\n",
    "                container\n",
    "                    .selectAll(\".points\")\n",
    "                    .data(data, (d, i) => i)\n",
    "                    .join(\n",
    "                        enter => enter.append(\"circle\")\n",
    "                            .attr(\"cx\", (d, i) => { console.log(\"i:\" + i); return margin.left + x(i); } )\n",
    "                            .attr(\"cy\", function (d) { console.log(\"d:\" + d); return y(d); } )\n",
    "                            .attr(\"r\", 2.5)\n",
    "                            .style(\"fill\", \"#69b3a2\")\n",
    "                            .transition()\n",
    "                            .duration(2000)                            \n",
    "                            .attr(\"r\", 0 ).remove(),\n",
    "                        update => update\n",
    "                            .transition()\n",
    "                             .attr(\"class\", \"line\")\n",
    "                             .attr(\"d\", valueline)\n",
    "                            );\n",
    "            });\n",
    "        notebookScope.interval = setInterval(() => updateD3Rendering(), 1000);\n",
    "    });\n",
    "}"
   ]
  },
  {
   "cell_type": "markdown",
   "metadata": {},
   "source": [
    "### Plot and call javascript "
   ]
  },
  {
   "cell_type": "code",
   "execution_count": 46,
   "metadata": {
    "scrolled": true
   },
   "outputs": [
    {
     "data": {
      "text/html": [
       "<svg id=\"dataPlot1\" width=500 height=200>\n",
       "</svg>\n",
       "\n"
      ]
     },
     "metadata": {},
     "output_type": "display_data"
    },
    {
     "data": {
      "text/html": [
       "<script type=\"text/javascript\">\n",
       "if (typeof window.createDotnetInteractiveClient === typeof Function) {\n",
       "    window.createDotnetInteractiveClient('http://192.168.1.76:1024/').then(async function (interactive) {\n",
       "        const console = interactive.getConsole('d98928be5fb441ff9480564b8e12cb23');\n",
       "        const notebookScope = getDotnetInteractiveScope('http://192.168.1.76:1024/');\n",
       "        try {\n",
       "\n",
       "await Object.getPrototypeOf(async function() {}).constructor(\n",
       "    \"interactive\",\n",
       "    \"console\",\n",
       "    \"notebookScope\",\n",
       "    \"notebookScope.plot(\\\"svg#dataPlot1\\\", \\\"tempData\\\")\"\n",
       ")(\n",
       "    interactive,\n",
       "    console,\n",
       "    notebookScope\n",
       ");\n",
       "\n",
       "        } catch (err) {\n",
       "            interactive.failCommand(err, 'd98928be5fb441ff9480564b8e12cb23');\n",
       "        } finally {\n",
       "            await interactive.waitForAllEventsToPublish('d98928be5fb441ff9480564b8e12cb23');\n",
       "            await interactive.markExecutionComplete('d98928be5fb441ff9480564b8e12cb23');\n",
       "        }\n",
       "    });\n",
       "}\n",
       "</script>"
      ]
     },
     "metadata": {},
     "output_type": "display_data"
    }
   ],
   "source": [
    "#!html\n",
    "<svg id=\"dataPlot1\" width=500 height=200>\n",
    "</svg>\n",
    "\n",
    "#!js\n",
    "notebookScope.plot(\"svg#dataPlot1\", \"tempData\")"
   ]
  },
  {
   "cell_type": "code",
   "execution_count": 47,
   "metadata": {},
   "outputs": [
    {
     "name": "stdout",
     "output_type": "stream",
     "text": [
      "99.88625183105468\n",
      "99.81499862670897\n",
      "99.75499954223632\n",
      "99.66500091552733\n",
      "99.63125228881835\n",
      "99.59374771118163\n",
      "99.55624999999999\n",
      "99.52625045776367\n",
      "99.48500366210936\n",
      "99.44749908447264\n",
      "99.42499771118163\n",
      "99.41749954223631\n",
      "99.37625274658203\n",
      "99.34624633789062\n",
      "99.32000274658202\n",
      "99.28624725341795\n",
      "99.25249862670897\n",
      "99.24500045776367\n",
      "99.23750228881835\n",
      "99.20375366210936\n",
      "99.17749633789062\n",
      "99.185001373291\n",
      "99.15500183105468\n",
      "99.11749725341795\n",
      "99.09500274658203\n",
      "99.06875228881835\n",
      "99.07999954223632\n",
      "99.08374862670897\n",
      "99.09125366210937\n",
      "99.09125366210937\n",
      "99.08374862670897\n",
      "99.09500274658203\n",
      "99.10624999999999\n",
      "99.11749725341795\n",
      "99.12875137329101\n",
      "99.14750366210936\n",
      "99.12500228881835\n",
      "99.10250091552733\n",
      "99.08374862670897\n",
      "99.03875274658202\n",
      "99.00874633789061\n",
      "98.99749908447265\n",
      "98.99000091552733\n",
      "98.97499771118163\n",
      "98.94124908447264\n",
      "98.91124954223632\n",
      "98.91124954223632\n",
      "98.89249725341796\n",
      "98.8324981689453\n",
      "98.76874999999998\n"
     ]
    }
   ],
   "source": [
    "await readTempData(50);"
   ]
  },
  {
   "cell_type": "code",
   "execution_count": 48,
   "metadata": {},
   "outputs": [
    {
     "data": {
      "text/html": [
       "<div class=\"dni-plaintext\">11</div>"
      ]
     },
     "execution_count": 48,
     "metadata": {},
     "output_type": "execute_result"
    }
   ],
   "source": [
    "tempData.Count"
   ]
  },
  {
   "cell_type": "code",
   "execution_count": 49,
   "metadata": {},
   "outputs": [],
   "source": [
    "using System;\n",
    "using System.Drawing;\n",
    "async Task readTempCondition(int count = 10, double maxTemp = 100){   \n",
    "    using (var ledMatrix = new SenseHatLedMatrixI2c())\n",
    "    using (var sh = new SenseHat())\n",
    "    {\n",
    "        ledMatrix.Fill(Color.Black);\n",
    "        for (var i = 0; i < count; i++){\n",
    "            var temp = sh.Temperature2.DegreesFahrenheit;\n",
    "            Console.WriteLine(temp);\n",
    "            if (temp > maxTemp) {\n",
    "                ledMatrix.Fill(Color.Red);\n",
    "            } \n",
    "            await Task.Delay(500);\n",
    "        }\n",
    "    }\n",
    "}"
   ]
  },
  {
   "cell_type": "markdown",
   "metadata": {},
   "source": [
    "### read temperature 50 times and add max temp condition"
   ]
  },
  {
   "cell_type": "code",
   "execution_count": null,
   "metadata": {},
   "outputs": [
    {
     "name": "stdout",
     "output_type": "stream",
     "text": [
      "97.50125045776366\n",
      "97.52000274658202\n",
      "97.553751373291\n",
      "97.60249633789061\n",
      "97.61375045776366\n",
      "97.63250274658202\n",
      "97.66250228881835\n",
      "97.67000045776366\n",
      "97.64000091552734\n",
      "97.64374999999998\n",
      "97.63625183105468\n",
      "97.64000091552734\n",
      "97.63250274658202\n"
     ]
    }
   ],
   "source": [
    "await readTempCondition(15, 98.75);"
   ]
  },
  {
   "cell_type": "markdown",
   "metadata": {},
   "source": [
    "### clear the ledMatrix to \"black\""
   ]
  },
  {
   "cell_type": "code",
   "execution_count": null,
   "metadata": {},
   "outputs": [],
   "source": [
    "using (var ledMatrix = new SenseHatLedMatrixI2c())\n",
    "{\n",
    "        ledMatrix.Fill(Color.Black);\n",
    "}\n"
   ]
  },
  {
   "cell_type": "markdown",
   "metadata": {},
   "source": [
    "## @rondagdag"
   ]
  },
  {
   "cell_type": "markdown",
   "metadata": {},
   "source": [
    "## https://www.linkedin.com/in/rondagdag"
   ]
  },
  {
   "cell_type": "code",
   "execution_count": null,
   "metadata": {},
   "outputs": [],
   "source": []
  }
 ],
 "metadata": {
  "kernelspec": {
   "display_name": ".NET (C#)",
   "language": "C#",
   "name": ".net-csharp"
  },
  "language_info": {
   "file_extension": ".cs",
   "mimetype": "text/x-csharp",
   "name": "C#",
   "pygments_lexer": "csharp",
   "version": "9.0"
  }
 },
 "nbformat": 4,
 "nbformat_minor": 4
}
