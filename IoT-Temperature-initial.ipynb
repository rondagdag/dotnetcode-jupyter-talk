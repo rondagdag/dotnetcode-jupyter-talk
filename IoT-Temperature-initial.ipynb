{
 "cells": [
  {
   "cell_type": "markdown",
   "metadata": {},
   "source": [
    "# Men from Mars, Women from Venus: both can code .NET in Jupyter"
   ]
  },
  {
   "cell_type": "markdown",
   "metadata": {},
   "source": [
    "@rondagdag"
   ]
  },
  {
   "cell_type": "markdown",
   "metadata": {},
   "source": [
    "### .NET Interactive https://github.com/dotnet/interactive"
   ]
  },
  {
   "cell_type": "markdown",
   "metadata": {},
   "source": [
    "### To install in raspberry pi\n",
    "follow instructions at \n",
    "https://github.com/dotnet/interactive/blob/main/docs/small-factor-devices.md\n",
    "```\n",
    "curl -L https://raw.githubusercontent.com/dotnet/interactive/master/tools/setup-raspbian.sh | bash -e\n",
    "curl -L https://raw.githubusercontent.com/dotnet/interactive/master/tools/setup-raspbian-jupyter.sh | bash -e\n",
    "source .jupyter_venv/bin/activate\n",
    "jupyter lab --ip 0.0.0.0\n",
    "\n",
    "```\n",
    "\n",
    "Rasperry Pi Sense Hat installation instructions\n",
    "https://www.raspberrypi.org/documentation/hardware/sense-hat/"
   ]
  },
  {
   "cell_type": "code",
   "execution_count": null,
   "metadata": {
    "dotnet_interactive": {
     "language": "csharp"
    }
   },
   "outputs": [],
   "source": [
    "#!lsmagic"
   ]
  },
  {
   "cell_type": "code",
   "execution_count": null,
   "metadata": {
    "dotnet_interactive": {
     "language": "fsharp"
    }
   },
   "outputs": [],
   "source": [
    "#!fsharp\n",
    "\n",
    "\"Hello from F#\" |> Console.WriteLine\n",
    "let x = 10\n",
    "let y = 15"
   ]
  },
  {
   "cell_type": "code",
   "execution_count": null,
   "metadata": {
    "dotnet_interactive": {
     "language": "csharp"
    }
   },
   "outputs": [],
   "source": [
    "#!share --from fsharp x\n",
    "x"
   ]
  },
  {
   "cell_type": "code",
   "execution_count": null,
   "metadata": {
    "dotnet_interactive": {
     "language": "csharp"
    }
   },
   "outputs": [],
   "source": [
    "#r \"nuget:System.Device.Gpio,1.5.0\"\n",
    "#r \"nuget:IoT.Device.Bindings,1.5.0\"\n",
    "#r \"nuget:UnitsNet,4.102.0\""
   ]
  },
  {
   "cell_type": "markdown",
   "metadata": {},
   "source": [
    "### Display the html"
   ]
  },
  {
   "cell_type": "code",
   "execution_count": null,
   "metadata": {
    "dotnet_interactive": {
     "language": "csharp"
    }
   },
   "outputs": [],
   "source": [
    "using static Microsoft.DotNet.Interactive.Formatting.PocketViewTags;\n",
    "using Microsoft.DotNet.Interactive.Formatting;\n",
    "var pocketView = span(a[href:@\"https://github.com/rondagdag/dotnetcode-jupyter-talk\", target: \"blank\"](b(\"Presentation\")));\n",
    "display(pocketView)"
   ]
  },
  {
   "cell_type": "code",
   "execution_count": null,
   "metadata": {
    "dotnet_interactive": {
     "language": "csharp"
    }
   },
   "outputs": [],
   "source": [
    "var someHtml = HTML(\"<b style=\\\"color:blue\\\">Sensor data!</b>\");\n",
    "var tempOutput = display(someHtml);"
   ]
  },
  {
   "cell_type": "code",
   "execution_count": null,
   "metadata": {
    "dotnet_interactive": {
     "language": "csharp"
    }
   },
   "outputs": [],
   "source": [
    "using Iot.Device.SenseHat;\n",
    "using System;\n",
    "var temperatures = new List<(int idx, double val)>();\n",
    "\n",
    "async Task readTemperature(int count = 10){   \n",
    "    using (var sh = new SenseHat())\n",
    "    {\n",
    "        var initcount = temperatures.Count;\n",
    "        for (var i = initcount; i < initcount + count; i++){        \n",
    "            temperatures.Add((i, sh.Temperature2.DegreesFahrenheit));\n",
    "            tempOutput.Update(HTML($\"<b style=\\\"color:green\\\">{sh.Temperature2.DegreesFahrenheit}</b>\"));\n",
    "            await Task.Delay(500);\n",
    "        }\n",
    "    }\n",
    "}"
   ]
  },
  {
   "cell_type": "markdown",
   "metadata": {},
   "source": [
    "### Read Temperatures"
   ]
  },
  {
   "cell_type": "code",
   "execution_count": null,
   "metadata": {
    "dotnet_interactive": {
     "language": "csharp"
    }
   },
   "outputs": [],
   "source": [
    "await "
   ]
  },
  {
   "cell_type": "code",
   "execution_count": null,
   "metadata": {
    "dotnet_interactive": {
     "language": "csharp"
    }
   },
   "outputs": [],
   "source": [
    "#i \"nuget:https://pkgs.dev.azure.com/dnceng/public/_packaging/dotnet5/nuget/v3/index.json\" \n",
    "#i \"nuget:https://pkgs.dev.azure.com/dnceng/public/_packaging/dotnet-tools/nuget/v3/index.json\" \n",
    "    \n",
    "#r \"nuget: XPlot.Plotly.Interactive, 4.0.2\""
   ]
  },
  {
   "cell_type": "code",
   "execution_count": null,
   "metadata": {
    "dotnet_interactive": {
     "language": "csharp"
    }
   },
   "outputs": [],
   "source": [
    "using XPlot.Plotly;"
   ]
  },
  {
   "cell_type": "code",
   "execution_count": null,
   "metadata": {
    "dotnet_interactive": {
     "language": "csharp"
    }
   },
   "outputs": [],
   "source": [
    "var values = temperatures.Select(i => i.val);\n",
    "values"
   ]
  },
  {
   "cell_type": "code",
   "execution_count": null,
   "metadata": {
    "dotnet_interactive": {
     "language": "csharp"
    }
   },
   "outputs": [],
   "source": [
    "var openSeries = new Scatter\n",
    "{\n",
    "    name = \"Open\",\n",
    "    x = temperatures.Select(i => i.idx),\n",
    "    y = values\n",
    "};\n",
    "\n",
    "\n",
    "var chart = Chart.Plot(new[] {openSeries});\n",
    "chart.WithTitle(\"Open\");"
   ]
  },
  {
   "cell_type": "markdown",
   "metadata": {},
   "source": [
    "### Display the chart"
   ]
  },
  {
   "cell_type": "code",
   "execution_count": null,
   "metadata": {
    "dotnet_interactive": {
     "language": "csharp"
    }
   },
   "outputs": [],
   "source": []
  },
  {
   "cell_type": "markdown",
   "metadata": {},
   "source": [
    "### Instead of adding to list, let's setup Asycnronous Streams in C#"
   ]
  },
  {
   "cell_type": "code",
   "execution_count": null,
   "metadata": {
    "dotnet_interactive": {
     "language": "csharp"
    }
   },
   "outputs": [],
   "source": [
    "async IAsyncEnumerable<double> ReadTemperatureAsync(int count = 10){   \n",
    "    using (var sh = new SenseHat())\n",
    "    {\n",
    "        for (var i = 0; i < count; i++){\n",
    "            await Task.Delay(1000);\n",
    "            yield return (sh.Temperature2.DegreesFahrenheit);\n",
    "        }\n",
    "    };\n",
    "}"
   ]
  },
  {
   "cell_type": "code",
   "execution_count": null,
   "metadata": {
    "dotnet_interactive": {
     "language": "csharp"
    }
   },
   "outputs": [],
   "source": [
    "#r \"nuget:Microsoft.Data.Analysis\"\n",
    "using Microsoft.Data.Analysis;"
   ]
  },
  {
   "cell_type": "code",
   "execution_count": null,
   "metadata": {
    "dotnet_interactive": {
     "language": "csharp"
    }
   },
   "outputs": [],
   "source": [
    "var output = display(\"Counting...\");\n",
    "PrimitiveDataFrameColumn<DateTime> dateTimes = new PrimitiveDataFrameColumn<DateTime>(\"DateTimes\"); // Default length is 0.\n",
    "PrimitiveDataFrameColumn<double> fahrenheit = new PrimitiveDataFrameColumn<double>(\"Fahrenheit\"); // Makes a column of length 3. Filled with nulls initially\n",
    "\n",
    "await foreach (var result in ReadTemperatureAsync(15))\n",
    "{\n",
    "   output.Update(result);\n",
    "   dateTimes.Append(DateTime.Now);\n",
    "   fahrenheit.Append(result);\n",
    "}"
   ]
  },
  {
   "cell_type": "markdown",
   "metadata": {},
   "source": [
    "### create a new Dataframe with 2 columns"
   ]
  },
  {
   "cell_type": "code",
   "execution_count": null,
   "metadata": {
    "dotnet_interactive": {
     "language": "csharp"
    }
   },
   "outputs": [],
   "source": [
    "DataFrame df = "
   ]
  },
  {
   "cell_type": "code",
   "execution_count": null,
   "metadata": {
    "dotnet_interactive": {
     "language": "csharp"
    }
   },
   "outputs": [],
   "source": [
    "df"
   ]
  },
  {
   "cell_type": "code",
   "execution_count": null,
   "metadata": {
    "dotnet_interactive": {
     "language": "csharp"
    }
   },
   "outputs": [],
   "source": [
    "using static Microsoft.DotNet.Interactive.Formatting.PocketViewTags;\n",
    "\n",
    "Formatter.Register<DataFrame>((person, writer) => {\n",
    "   writer.Write(\"DataFrame\");\n",
    "}, mimeType: \"text/plain\");"
   ]
  },
  {
   "cell_type": "code",
   "execution_count": null,
   "metadata": {
    "dotnet_interactive": {
     "language": "csharp"
    }
   },
   "outputs": [],
   "source": [
    "df"
   ]
  },
  {
   "cell_type": "code",
   "execution_count": null,
   "metadata": {
    "dotnet_interactive": {
     "language": "csharp"
    }
   },
   "outputs": [],
   "source": [
    "var a = df.Rows.Take(2);\n",
    "a"
   ]
  },
  {
   "cell_type": "markdown",
   "metadata": {},
   "source": [
    "### Count the number of rows"
   ]
  },
  {
   "cell_type": "code",
   "execution_count": null,
   "metadata": {
    "dotnet_interactive": {
     "language": "csharp"
    }
   },
   "outputs": [],
   "source": [
    "var total = \n",
    "total"
   ]
  },
  {
   "cell_type": "code",
   "execution_count": null,
   "metadata": {
    "dotnet_interactive": {
     "language": "csharp"
    }
   },
   "outputs": [],
   "source": [
    "PrimitiveDataFrameColumn<double> celcius = new PrimitiveDataFrameColumn<double>(\"Celcius\", total);\n",
    "var newDf = df.Clone();\n",
    "newDf.Columns.Insert(2, celcius);\n",
    "newDf"
   ]
  },
  {
   "cell_type": "code",
   "execution_count": null,
   "metadata": {
    "dotnet_interactive": {
     "language": "csharp"
    }
   },
   "outputs": [],
   "source": [
    "var info = newDf.Info();\n",
    "info"
   ]
  },
  {
   "cell_type": "code",
   "execution_count": null,
   "metadata": {
    "dotnet_interactive": {
     "language": "csharp"
    }
   },
   "outputs": [],
   "source": [
    "celcius.FillNulls(0, inPlace: true);\n",
    "newDf"
   ]
  },
  {
   "cell_type": "code",
   "execution_count": null,
   "metadata": {
    "dotnet_interactive": {
     "language": "csharp"
    }
   },
   "outputs": [],
   "source": [
    "DataFrameRow row0 = newDf.Rows[0];\n",
    "row0"
   ]
  },
  {
   "cell_type": "markdown",
   "metadata": {},
   "source": [
    "### Convert Fahrenheit and fill the Celcius - [fahrenheit - 32] * 5/9;"
   ]
  },
  {
   "cell_type": "code",
   "execution_count": null,
   "metadata": {
    "dotnet_interactive": {
     "language": "csharp"
    }
   },
   "outputs": [],
   "source": [
    "newDf.Columns[\"Celcius\"] = \n",
    "newDf"
   ]
  },
  {
   "cell_type": "code",
   "execution_count": null,
   "metadata": {
    "dotnet_interactive": {
     "language": "csharp"
    }
   },
   "outputs": [],
   "source": [
    "var celciusMean = newDf.Columns[\"Celcius\"].Mean();\n",
    "celciusMean"
   ]
  },
  {
   "cell_type": "code",
   "execution_count": null,
   "metadata": {
    "dotnet_interactive": {
     "language": "csharp"
    }
   },
   "outputs": [],
   "source": [
    "Chart.Plot(\n",
    "    new Scatter()\n",
    "    {\n",
    "        x = newDf.Columns[\"DateTimes\"],\n",
    "        y = newDf.Columns[\"Celcius\"]\n",
    "    }\n",
    ")"
   ]
  },
  {
   "cell_type": "code",
   "execution_count": null,
   "metadata": {
    "dotnet_interactive": {
     "language": "csharp"
    }
   },
   "outputs": [],
   "source": [
    "var tempData = new List<double>();\n",
    "\n",
    "async Task readTempData(int count = 10){   \n",
    "    using (var sh = new SenseHat())\n",
    "    {\n",
    "        for (var i = 0; i < count; i++){        \n",
    "            if(tempData.Count > 10){\n",
    "                tempData.RemoveAt(0);\n",
    "            }\n",
    "            tempData.Add(sh.Temperature2.DegreesFahrenheit);\n",
    "            Console.WriteLine(sh.Temperature2.DegreesFahrenheit);\n",
    "            await Task.Delay(500);\n",
    "        }\n",
    "    }\n",
    "}"
   ]
  },
  {
   "cell_type": "code",
   "execution_count": null,
   "metadata": {
    "dotnet_interactive": {
     "language": "csharp"
    }
   },
   "outputs": [],
   "source": [
    "#!js \n",
    "\n",
    "if (typeof (notebookScope.interval) !== 'undefined') {\n",
    "    clearInterval(notebookScope.interval);\n",
    "}\n",
    "\n",
    "notebookScope.plot = (sgvSelector, variableName) => {   \n",
    "    let dtree_require = require.config({\n",
    "        paths: {\n",
    "            d3: \"https://d3js.org/d3.v5.min\"\n",
    "        }\n",
    "    });\n",
    "    dtree_require([\"d3\"], function (d3) {       \n",
    "        let svg = d3.select(sgvSelector);\n",
    "        svg.selectAll(\"defs\").remove();\n",
    "        svg.selectAll(\"g\").remove();\n",
    "        \n",
    "        var margin = {top: 0, right: 30, bottom: 30, left: 40},\n",
    "            width = 260 - margin.left - margin.right,\n",
    "            height = 200 - margin.top - margin.bottom;\n",
    "        \n",
    "        let container = d3\n",
    "            .select(sgvSelector);\n",
    "        \n",
    "         var width = 260 \n",
    "            scaleFactor = 20, \n",
    "            barHeight = 30;\n",
    "         \n",
    "         var graph = d3.select(\"body\")\n",
    "            .append(\"svg\")\n",
    "                .attr(\"width\", width + margin.left + margin.right)\n",
    "                .attr(\"height\", height + margin.top + margin.bottom)\n",
    "            .append(\"g\")\n",
    "                .attr(\"transform\",\n",
    "                      \"translate(\" + margin.left + \",\" + margin.top + \")\");\n",
    "        \n",
    "        // Add X axis\n",
    "          var x = d3.scaleLinear()\n",
    "            .domain([0, 10])\n",
    "            .range([ width, 0 ]);\n",
    "        \n",
    "          svg.append(\"g\")\n",
    "            .attr(\"transform\", \"translate(\" + margin.left + \",\" + height + \")\")\n",
    "            .call(d3.axisBottom(x));\n",
    "\n",
    "      // Add Y axis\n",
    "          var y = d3.scaleLinear()\n",
    "            .domain([101, 103])\n",
    "            .range([ height, 0]);\n",
    "        \n",
    "          svg.append(\"g\")\n",
    "            .attr(\"transform\", \"translate(\" + margin.left + \", 0)\")\n",
    "            .call(d3.axisLeft(y));\n",
    "\n",
    "        updateD3Rendering = () => interactive.csharp.getVariable(variableName)\n",
    "            .then(data => {\n",
    "                console.log(data);\n",
    "                container\n",
    "                    .selectAll(\".points\")\n",
    "                    .data(data, (d, i) => i)\n",
    "                    .join(\n",
    "                        enter => enter.append(\"circle\")\n",
    "                            .attr(\"cx\", (d, i) => { console.log(\"i:\" + i); return margin.left + x(i); } )\n",
    "                            .attr(\"cy\", function (d) { console.log(\"d:\" + d); return y(d); } )\n",
    "                            .attr(\"r\", 2.5)\n",
    "                            .style(\"fill\", \"#69b3a2\")\n",
    "                            .transition()\n",
    "                            .duration(2000)                            \n",
    "                            .attr(\"r\", 0 ).remove(),\n",
    "                        update => update\n",
    "                            .transition()\n",
    "                             .attr(\"class\", \"line\")\n",
    "                             .attr(\"d\", valueline)\n",
    "                            );\n",
    "            });\n",
    "        notebookScope.interval = setInterval(() => updateD3Rendering(), 1000);\n",
    "    });\n",
    "}"
   ]
  },
  {
   "cell_type": "markdown",
   "metadata": {},
   "source": [
    "### Plot and call javascript - plot svg dataPlot1 tempData"
   ]
  },
  {
   "cell_type": "code",
   "execution_count": null,
   "metadata": {
    "dotnet_interactive": {
     "language": "html"
    },
    "scrolled": true
   },
   "outputs": [],
   "source": [
    "#!html\n",
    "<svg id=\"dataPlot1\" width=500 height=200>\n",
    "</svg>\n",
    "\n",
    "#!js\n",
    "notebookScope.plot(\"svg#dataPlot1\", \"tempData\")"
   ]
  },
  {
   "cell_type": "code",
   "execution_count": null,
   "metadata": {
    "dotnet_interactive": {
     "language": "csharp"
    }
   },
   "outputs": [],
   "source": [
    "await readTempData(50);"
   ]
  },
  {
   "cell_type": "code",
   "execution_count": null,
   "metadata": {
    "dotnet_interactive": {
     "language": "csharp"
    }
   },
   "outputs": [],
   "source": [
    "tempData.Count"
   ]
  },
  {
   "cell_type": "code",
   "execution_count": null,
   "metadata": {
    "dotnet_interactive": {
     "language": "csharp"
    }
   },
   "outputs": [],
   "source": [
    "using System;\n",
    "using System.Drawing;\n",
    "async Task readTempCondition(int count = 10, double maxTemp = 100){   \n",
    "    using (var ledMatrix = new SenseHatLedMatrixI2c())\n",
    "    using (var sh = new SenseHat())\n",
    "    {\n",
    "        ledMatrix.Fill(Color.Black);\n",
    "        for (var i = 0; i < count; i++){\n",
    "            var temp = sh.Temperature2.DegreesFahrenheit;\n",
    "            Console.WriteLine(temp);\n",
    "            if (temp > maxTemp) {\n",
    "                ledMatrix.Fill(Color.Red);\n",
    "            } \n",
    "            await Task.Delay(500);\n",
    "        }\n",
    "    }\n",
    "}"
   ]
  },
  {
   "cell_type": "markdown",
   "metadata": {},
   "source": [
    "### read temperature 50 times and add max temp condition"
   ]
  },
  {
   "cell_type": "code",
   "execution_count": null,
   "metadata": {
    "dotnet_interactive": {
     "language": "csharp"
    }
   },
   "outputs": [],
   "source": [
    "await ;"
   ]
  },
  {
   "cell_type": "markdown",
   "metadata": {},
   "source": [
    "### clear the ledMatrix to \"black\""
   ]
  },
  {
   "cell_type": "code",
   "execution_count": null,
   "metadata": {
    "dotnet_interactive": {
     "language": "csharp"
    }
   },
   "outputs": [],
   "source": [
    "using (var ledMatrix = new SenseHatLedMatrixI2c())\n",
    "{\n",
    "        ledMatrix.Fill(Color.Black);\n",
    "}\n"
   ]
  },
  {
   "cell_type": "markdown",
   "metadata": {},
   "source": [
    "## @rondagdag"
   ]
  },
  {
   "cell_type": "markdown",
   "metadata": {},
   "source": [
    "## https://www.linkedin.com/in/rondagdag"
   ]
  },
  {
   "cell_type": "code",
   "execution_count": null,
   "metadata": {
    "dotnet_interactive": {
     "language": "csharp"
    }
   },
   "outputs": [],
   "source": []
  }
 ],
 "metadata": {
  "kernelspec": {
   "display_name": ".NET (C#)",
   "language": "C#",
   "name": ".net-csharp"
  },
  "language_info": {
   "file_extension": ".cs",
   "mimetype": "text/x-csharp",
   "name": "C#",
   "pygments_lexer": "csharp",
   "version": "9.0"
  }
 },
 "nbformat": 4,
 "nbformat_minor": 4
}
